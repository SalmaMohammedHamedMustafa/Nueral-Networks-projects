{
  "cells": [
    {
      "cell_type": "code",
      "execution_count": 1,
      "metadata": {
        "colab": {
          "base_uri": "https://localhost:8080/"
        },
        "id": "leYTiIhgQ3Go",
        "outputId": "99fcb297-fa41-4299-f025-cd32ce0349cb"
      },
      "outputs": [
        {
          "output_type": "stream",
          "name": "stdout",
          "text": [
            "Requirement already satisfied: librosa in /usr/local/lib/python3.11/dist-packages (0.11.0)\n",
            "Requirement already satisfied: audioread>=2.1.9 in /usr/local/lib/python3.11/dist-packages (from librosa) (3.0.1)\n",
            "Requirement already satisfied: numba>=0.51.0 in /usr/local/lib/python3.11/dist-packages (from librosa) (0.60.0)\n",
            "Requirement already satisfied: numpy>=1.22.3 in /usr/local/lib/python3.11/dist-packages (from librosa) (2.0.2)\n",
            "Requirement already satisfied: scipy>=1.6.0 in /usr/local/lib/python3.11/dist-packages (from librosa) (1.14.1)\n",
            "Requirement already satisfied: scikit-learn>=1.1.0 in /usr/local/lib/python3.11/dist-packages (from librosa) (1.6.1)\n",
            "Requirement already satisfied: joblib>=1.0 in /usr/local/lib/python3.11/dist-packages (from librosa) (1.4.2)\n",
            "Requirement already satisfied: decorator>=4.3.0 in /usr/local/lib/python3.11/dist-packages (from librosa) (4.4.2)\n",
            "Requirement already satisfied: soundfile>=0.12.1 in /usr/local/lib/python3.11/dist-packages (from librosa) (0.13.1)\n",
            "Requirement already satisfied: pooch>=1.1 in /usr/local/lib/python3.11/dist-packages (from librosa) (1.8.2)\n",
            "Requirement already satisfied: soxr>=0.3.2 in /usr/local/lib/python3.11/dist-packages (from librosa) (0.5.0.post1)\n",
            "Requirement already satisfied: typing_extensions>=4.1.1 in /usr/local/lib/python3.11/dist-packages (from librosa) (4.13.1)\n",
            "Requirement already satisfied: lazy_loader>=0.1 in /usr/local/lib/python3.11/dist-packages (from librosa) (0.4)\n",
            "Requirement already satisfied: msgpack>=1.0 in /usr/local/lib/python3.11/dist-packages (from librosa) (1.1.0)\n",
            "Requirement already satisfied: packaging in /usr/local/lib/python3.11/dist-packages (from lazy_loader>=0.1->librosa) (24.2)\n",
            "Requirement already satisfied: llvmlite<0.44,>=0.43.0dev0 in /usr/local/lib/python3.11/dist-packages (from numba>=0.51.0->librosa) (0.43.0)\n",
            "Requirement already satisfied: platformdirs>=2.5.0 in /usr/local/lib/python3.11/dist-packages (from pooch>=1.1->librosa) (4.3.7)\n",
            "Requirement already satisfied: requests>=2.19.0 in /usr/local/lib/python3.11/dist-packages (from pooch>=1.1->librosa) (2.32.3)\n",
            "Requirement already satisfied: threadpoolctl>=3.1.0 in /usr/local/lib/python3.11/dist-packages (from scikit-learn>=1.1.0->librosa) (3.6.0)\n",
            "Requirement already satisfied: cffi>=1.0 in /usr/local/lib/python3.11/dist-packages (from soundfile>=0.12.1->librosa) (1.17.1)\n",
            "Requirement already satisfied: pycparser in /usr/local/lib/python3.11/dist-packages (from cffi>=1.0->soundfile>=0.12.1->librosa) (2.22)\n",
            "Requirement already satisfied: charset-normalizer<4,>=2 in /usr/local/lib/python3.11/dist-packages (from requests>=2.19.0->pooch>=1.1->librosa) (3.4.1)\n",
            "Requirement already satisfied: idna<4,>=2.5 in /usr/local/lib/python3.11/dist-packages (from requests>=2.19.0->pooch>=1.1->librosa) (3.10)\n",
            "Requirement already satisfied: urllib3<3,>=1.21.1 in /usr/local/lib/python3.11/dist-packages (from requests>=2.19.0->pooch>=1.1->librosa) (2.3.0)\n",
            "Requirement already satisfied: certifi>=2017.4.17 in /usr/local/lib/python3.11/dist-packages (from requests>=2.19.0->pooch>=1.1->librosa) (2025.1.31)\n"
          ]
        }
      ],
      "source": [
        "!pip install librosa -U"
      ]
    },
    {
      "cell_type": "code",
      "execution_count": 2,
      "metadata": {
        "id": "COGK8k30Q5to"
      },
      "outputs": [],
      "source": [
        "\n",
        "\n",
        "import numpy as np\n",
        "import pandas as pd\n",
        "import tensorflow as tf\n",
        "import matplotlib.pyplot as plt\n",
        "import os\n",
        "import wave # for reading audio files in .wav format\n",
        "import pylab # for plotting waveforms and spectrograms\n",
        "from pathlib import Path\n",
        "from scipy import signal\n",
        "from scipy.io import wavfile # wavfile reads wav files and returns the sample rate (in samples/sec) and data as numpy array\n",
        "from sklearn.metrics import confusion_matrix # for confusion matrix plot\n",
        "import itertools # itertools is used for efficient looping\n",
        "from tqdm import tqdm\n",
        "import librosa #Python package for music & audio files\n",
        "import librosa.display\n",
        "import librosa.display as lplt\n",
        "\n"
      ]
    },
    {
      "cell_type": "code",
      "execution_count": 3,
      "metadata": {
        "colab": {
          "base_uri": "https://localhost:8080/"
        },
        "id": "tuWhAU9dQ9SA",
        "outputId": "b89ef054-1375-486e-d84e-a8dd4ecfee4d"
      },
      "outputs": [
        {
          "output_type": "stream",
          "name": "stdout",
          "text": [
            "Downloading from https://www.kaggle.com/api/v1/datasets/download/alanchn31/free-spoken-digits?dataset_version_number=1...\n"
          ]
        },
        {
          "output_type": "stream",
          "name": "stderr",
          "text": [
            "100%|██████████| 15.7M/15.7M [00:01<00:00, 10.8MB/s]"
          ]
        },
        {
          "output_type": "stream",
          "name": "stdout",
          "text": [
            "Extracting files...\n"
          ]
        },
        {
          "output_type": "stream",
          "name": "stderr",
          "text": [
            "\n"
          ]
        },
        {
          "output_type": "stream",
          "name": "stdout",
          "text": [
            "Path to dataset files: /root/.cache/kagglehub/datasets/alanchn31/free-spoken-digits/versions/1\n"
          ]
        }
      ],
      "source": [
        "\n",
        "import kagglehub\n",
        "\n",
        "# Download latest version\n",
        "path = kagglehub.dataset_download(\"alanchn31/free-spoken-digits\")\n",
        "\n",
        "print(\"Path to dataset files:\", path)"
      ]
    },
    {
      "cell_type": "code",
      "execution_count": 4,
      "metadata": {
        "colab": {
          "base_uri": "https://localhost:8080/"
        },
        "id": "wMiwudeiRBK7",
        "outputId": "93308114-94c7-488b-f009-efc8d8ee17ef"
      },
      "outputs": [
        {
          "output_type": "stream",
          "name": "stdout",
          "text": [
            "acquire_data\n",
            "utils\n",
            "README.md\n",
            "__init__.py\n",
            "recordings\n",
            "pip_requirements.txt\n",
            ".gitignore\n",
            "metadata.py\n"
          ]
        }
      ],
      "source": [
        "# Set paths to input and output data\n",
        "INPUT_DIR = \"/root/.cache/kagglehub/datasets/alanchn31/free-spoken-digits/versions/1/free-spoken-digit-dataset-master\"\n",
        "# Print names of 10 WAV files from the input path\n",
        "parent_list = os.listdir(INPUT_DIR)\n",
        "for i in parent_list:\n",
        "    print(i)"
      ]
    },
    {
      "cell_type": "code",
      "execution_count": 5,
      "metadata": {
        "colab": {
          "base_uri": "https://localhost:8080/"
        },
        "id": "PNBcyyoLRMF1",
        "outputId": "f3ab9b53-e54d-4007-dcf1-e6e5804ca7fc"
      },
      "outputs": [
        {
          "output_type": "stream",
          "name": "stdout",
          "text": [
            "First 10 files in the recordings directory:\n",
            "0_george_0.wav\n",
            "0_george_1.wav\n",
            "0_george_10.wav\n",
            "0_george_11.wav\n",
            "0_george_12.wav\n",
            "0_george_13.wav\n",
            "0_george_14.wav\n",
            "0_george_15.wav\n",
            "0_george_16.wav\n",
            "0_george_17.wav\n"
          ]
        }
      ],
      "source": [
        "recordings_path =INPUT_DIR+ \"/recordings\"\n",
        "if os.path.exists(recordings_path) and os.path.isdir(recordings_path):\n",
        "    # List all entries in the directory\n",
        "    recordings = os.listdir(recordings_path)\n",
        "\n",
        "    # Optionally, sort the list for consistent ordering\n",
        "    recordings.sort()\n",
        "\n",
        "    # Get the first 10 records (or all if less than 10)\n",
        "    first_10 = recordings[:10]\n",
        "\n",
        "    print(\"First 10 files in the recordings directory:\")\n",
        "    for record in first_10:\n",
        "        print(record)\n",
        "else:\n",
        "    print(\"The recordings directory does not exist at:\", recordings_path)"
      ]
    },
    {
      "cell_type": "markdown",
      "metadata": {
        "id": "LTXgK0mdY2e1"
      },
      "source": [
        "## prepareing the dataset"
      ]
    },
    {
      "cell_type": "code",
      "execution_count": 6,
      "metadata": {
        "id": "I_KZDe36Rat7"
      },
      "outputs": [],
      "source": [
        "#extract the labels from recordings names\n",
        "audio_files = [f for f in os.listdir(recordings_path) if f.endswith('.wav')]\n",
        "labels = [int(f.split('_')[0]) for f in audio_files]"
      ]
    },
    {
      "cell_type": "code",
      "execution_count": 7,
      "metadata": {
        "id": "MLTWuu60TScN"
      },
      "outputs": [],
      "source": [
        "from sklearn.model_selection import train_test_split\n",
        "\n",
        "\n",
        "# Split the dataset: 70% train, 15% val, 15% test\n",
        "train_files, temp_files, train_labels, temp_labels = train_test_split(\n",
        "    audio_files, labels, test_size=0.3, stratify=labels, random_state=42\n",
        ")\n",
        "val_files, test_files, val_labels, test_labels = train_test_split(\n",
        "    temp_files, temp_labels, test_size=0.5, stratify=temp_labels, random_state=42\n",
        ")"
      ]
    },
    {
      "cell_type": "code",
      "execution_count": 8,
      "metadata": {
        "colab": {
          "base_uri": "https://localhost:8080/"
        },
        "id": "XPJ7k3XFUrrn",
        "outputId": "91960054-2a9d-4595-c29c-399b90b001be"
      },
      "outputs": [
        {
          "output_type": "stream",
          "name": "stderr",
          "text": [
            "/usr/local/lib/python3.11/dist-packages/librosa/feature/spectral.py:2148: UserWarning: Empty filters detected in mel frequency basis. Some channels will produce empty responses. Try increasing your sampling rate (and fmax) or reducing n_mels.\n",
            "  mel_basis = filters.mel(sr=sr, n_fft=n_fft, **kwargs)\n"
          ]
        }
      ],
      "source": [
        "# Function to extract MFCC features\n",
        "def extract_mfcc(file_path, sr=None, n_mfcc=13, frame_duration=0.015, hop_duration=0.0075):\n",
        "    \"\"\"\n",
        "    Extract MFCC features from an audio file.\n",
        "\n",
        "    Parameters:\n",
        "    - file_path: Path to the audio file.\n",
        "    - sr: Sampling rate. If None, uses the file's sampling rate.\n",
        "    - n_mfcc: Number of MFCC coefficients.\n",
        "    - frame_duration: Duration of each frame in seconds.\n",
        "    - hop_duration: Hop length between frames in seconds.\n",
        "\n",
        "    Returns:\n",
        "    - MFCC features as a numpy array of shape (n_frames, n_mfcc).\n",
        "    \"\"\"\n",
        "    audio, sr = librosa.load(file_path, sr=sr)\n",
        "    n_fft = int(frame_duration * sr)\n",
        "    hop_length = int(hop_duration * sr)\n",
        "    mfcc = librosa.feature.mfcc(y=audio, sr=sr, n_mfcc=n_mfcc, n_fft=n_fft, hop_length=hop_length)\n",
        "    return mfcc.T  # Shape: (n_frames, n_mfcc)\n",
        "\n",
        "# Extract MFCCs for training set\n",
        "train_mfccs = [extract_mfcc(os.path.join(recordings_path, f)) for f in train_files]\n",
        "\n",
        "# Extract MFCCs for validation set\n",
        "val_mfccs = [extract_mfcc(os.path.join(recordings_path, f)) for f in val_files]\n",
        "\n",
        "# Extract MFCCs for test set\n",
        "test_mfccs = [extract_mfcc(os.path.join(recordings_path, f)) for f in test_files]"
      ]
    },
    {
      "cell_type": "code",
      "execution_count": 9,
      "metadata": {
        "id": "PwIXOJNcU0ok"
      },
      "outputs": [],
      "source": [
        "# Concatenate all training MFCCs to compute normalization statistics\n",
        "all_train_mfccs = np.vstack(train_mfccs)\n",
        "\n",
        "# Compute mean and std for each MFCC coefficient\n",
        "mean_mfcc = np.mean(all_train_mfccs, axis=0)\n",
        "std_mfcc = np.std(all_train_mfccs, axis=0)\n",
        "\n",
        "# Function to normalize MFCCs\n",
        "def normalize_mfcc(mfcc, mean, std):\n",
        "    return (mfcc - mean) / std\n",
        "\n",
        "# Normalize MFCCs for all sets\n",
        "train_mfccs_norm = [normalize_mfcc(mfcc, mean_mfcc, std_mfcc) for mfcc in train_mfccs]\n",
        "val_mfccs_norm = [normalize_mfcc(mfcc, mean_mfcc, std_mfcc) for mfcc in val_mfccs]\n",
        "test_mfccs_norm = [normalize_mfcc(mfcc, mean_mfcc, std_mfcc) for mfcc in test_mfccs]"
      ]
    },
    {
      "cell_type": "markdown",
      "metadata": {
        "id": "LeLhi3Pea9Yh"
      },
      "source": [
        "## the classifier"
      ]
    },
    {
      "cell_type": "code",
      "execution_count": 10,
      "metadata": {
        "id": "8jmRQBSCbA5E"
      },
      "outputs": [],
      "source": [
        "import tensorflow as tf\n",
        "from tensorflow.keras.models import Sequential\n",
        "from tensorflow.keras.layers import Input, Dense, Dropout\n",
        "\n",
        "def create_mlp_classifier(input_dim, n_classes=10, hidden_units=[128, 64], dropout_rate=0.3):\n",
        "    \"\"\"\n",
        "    Create a Multi-Layer Perceptron (MLP) classifier using TensorFlow/Keras.\n",
        "\n",
        "    Parameters:\n",
        "    - input_dim (int): Number of input features (e.g., 13 for mean MFCC vectors).\n",
        "    - n_classes (int): Number of output classes (default 10 for digits 0-9).\n",
        "    - hidden_units (list): List of integers specifying the number of units in each hidden layer\n",
        "                         (default [128, 64] for two hidden layers).\n",
        "    - dropout_rate (float): Dropout rate for regularization (default 0.3).\n",
        "\n",
        "    Returns:\n",
        "    - model: Compiled Keras Sequential model ready for training.\n",
        "    \"\"\"\n",
        "    model = Sequential([\n",
        "        Input(shape=(input_dim,)),  # Explicit Input layer\n",
        "    ])\n",
        "\n",
        "    # Add hidden layers\n",
        "    for units in hidden_units:\n",
        "        model.add(Dense(units, activation='relu'))\n",
        "        model.add(Dropout(dropout_rate))\n",
        "\n",
        "    # Output layer\n",
        "    model.add(Dense(n_classes, activation='softmax'))\n",
        "\n",
        "    # Compile the model\n",
        "    model.compile(optimizer='adam',\n",
        "                  loss='sparse_categorical_crossentropy',\n",
        "                  metrics=['accuracy'])\n",
        "\n",
        "    return model\n"
      ]
    },
    {
      "cell_type": "code",
      "source": [
        "\n",
        "# Example usage:\n",
        "input_dim = train_mfccs_norm[0].shape[1]  # Get the number of MFCCs\n",
        "model = create_mlp_classifier(input_dim)\n",
        "model.summary()\n"
      ],
      "metadata": {
        "colab": {
          "base_uri": "https://localhost:8080/",
          "height": 310
        },
        "id": "za62hKVEG7VM",
        "outputId": "8829f67a-e9cf-4cf8-ee97-180a7829164a"
      },
      "execution_count": 11,
      "outputs": [
        {
          "output_type": "display_data",
          "data": {
            "text/plain": [
              "\u001b[1mModel: \"sequential\"\u001b[0m\n"
            ],
            "text/html": [
              "<pre style=\"white-space:pre;overflow-x:auto;line-height:normal;font-family:Menlo,'DejaVu Sans Mono',consolas,'Courier New',monospace\"><span style=\"font-weight: bold\">Model: \"sequential\"</span>\n",
              "</pre>\n"
            ]
          },
          "metadata": {}
        },
        {
          "output_type": "display_data",
          "data": {
            "text/plain": [
              "┏━━━━━━━━━━━━━━━━━━━━━━━━━━━━━━━━━┳━━━━━━━━━━━━━━━━━━━━━━━━┳━━━━━━━━━━━━━━━┓\n",
              "┃\u001b[1m \u001b[0m\u001b[1mLayer (type)                   \u001b[0m\u001b[1m \u001b[0m┃\u001b[1m \u001b[0m\u001b[1mOutput Shape          \u001b[0m\u001b[1m \u001b[0m┃\u001b[1m \u001b[0m\u001b[1m      Param #\u001b[0m\u001b[1m \u001b[0m┃\n",
              "┡━━━━━━━━━━━━━━━━━━━━━━━━━━━━━━━━━╇━━━━━━━━━━━━━━━━━━━━━━━━╇━━━━━━━━━━━━━━━┩\n",
              "│ dense (\u001b[38;5;33mDense\u001b[0m)                   │ (\u001b[38;5;45mNone\u001b[0m, \u001b[38;5;34m128\u001b[0m)            │         \u001b[38;5;34m1,792\u001b[0m │\n",
              "├─────────────────────────────────┼────────────────────────┼───────────────┤\n",
              "│ dropout (\u001b[38;5;33mDropout\u001b[0m)               │ (\u001b[38;5;45mNone\u001b[0m, \u001b[38;5;34m128\u001b[0m)            │             \u001b[38;5;34m0\u001b[0m │\n",
              "├─────────────────────────────────┼────────────────────────┼───────────────┤\n",
              "│ dense_1 (\u001b[38;5;33mDense\u001b[0m)                 │ (\u001b[38;5;45mNone\u001b[0m, \u001b[38;5;34m64\u001b[0m)             │         \u001b[38;5;34m8,256\u001b[0m │\n",
              "├─────────────────────────────────┼────────────────────────┼───────────────┤\n",
              "│ dropout_1 (\u001b[38;5;33mDropout\u001b[0m)             │ (\u001b[38;5;45mNone\u001b[0m, \u001b[38;5;34m64\u001b[0m)             │             \u001b[38;5;34m0\u001b[0m │\n",
              "├─────────────────────────────────┼────────────────────────┼───────────────┤\n",
              "│ dense_2 (\u001b[38;5;33mDense\u001b[0m)                 │ (\u001b[38;5;45mNone\u001b[0m, \u001b[38;5;34m10\u001b[0m)             │           \u001b[38;5;34m650\u001b[0m │\n",
              "└─────────────────────────────────┴────────────────────────┴───────────────┘\n"
            ],
            "text/html": [
              "<pre style=\"white-space:pre;overflow-x:auto;line-height:normal;font-family:Menlo,'DejaVu Sans Mono',consolas,'Courier New',monospace\">┏━━━━━━━━━━━━━━━━━━━━━━━━━━━━━━━━━┳━━━━━━━━━━━━━━━━━━━━━━━━┳━━━━━━━━━━━━━━━┓\n",
              "┃<span style=\"font-weight: bold\"> Layer (type)                    </span>┃<span style=\"font-weight: bold\"> Output Shape           </span>┃<span style=\"font-weight: bold\">       Param # </span>┃\n",
              "┡━━━━━━━━━━━━━━━━━━━━━━━━━━━━━━━━━╇━━━━━━━━━━━━━━━━━━━━━━━━╇━━━━━━━━━━━━━━━┩\n",
              "│ dense (<span style=\"color: #0087ff; text-decoration-color: #0087ff\">Dense</span>)                   │ (<span style=\"color: #00d7ff; text-decoration-color: #00d7ff\">None</span>, <span style=\"color: #00af00; text-decoration-color: #00af00\">128</span>)            │         <span style=\"color: #00af00; text-decoration-color: #00af00\">1,792</span> │\n",
              "├─────────────────────────────────┼────────────────────────┼───────────────┤\n",
              "│ dropout (<span style=\"color: #0087ff; text-decoration-color: #0087ff\">Dropout</span>)               │ (<span style=\"color: #00d7ff; text-decoration-color: #00d7ff\">None</span>, <span style=\"color: #00af00; text-decoration-color: #00af00\">128</span>)            │             <span style=\"color: #00af00; text-decoration-color: #00af00\">0</span> │\n",
              "├─────────────────────────────────┼────────────────────────┼───────────────┤\n",
              "│ dense_1 (<span style=\"color: #0087ff; text-decoration-color: #0087ff\">Dense</span>)                 │ (<span style=\"color: #00d7ff; text-decoration-color: #00d7ff\">None</span>, <span style=\"color: #00af00; text-decoration-color: #00af00\">64</span>)             │         <span style=\"color: #00af00; text-decoration-color: #00af00\">8,256</span> │\n",
              "├─────────────────────────────────┼────────────────────────┼───────────────┤\n",
              "│ dropout_1 (<span style=\"color: #0087ff; text-decoration-color: #0087ff\">Dropout</span>)             │ (<span style=\"color: #00d7ff; text-decoration-color: #00d7ff\">None</span>, <span style=\"color: #00af00; text-decoration-color: #00af00\">64</span>)             │             <span style=\"color: #00af00; text-decoration-color: #00af00\">0</span> │\n",
              "├─────────────────────────────────┼────────────────────────┼───────────────┤\n",
              "│ dense_2 (<span style=\"color: #0087ff; text-decoration-color: #0087ff\">Dense</span>)                 │ (<span style=\"color: #00d7ff; text-decoration-color: #00d7ff\">None</span>, <span style=\"color: #00af00; text-decoration-color: #00af00\">10</span>)             │           <span style=\"color: #00af00; text-decoration-color: #00af00\">650</span> │\n",
              "└─────────────────────────────────┴────────────────────────┴───────────────┘\n",
              "</pre>\n"
            ]
          },
          "metadata": {}
        },
        {
          "output_type": "display_data",
          "data": {
            "text/plain": [
              "\u001b[1m Total params: \u001b[0m\u001b[38;5;34m10,698\u001b[0m (41.79 KB)\n"
            ],
            "text/html": [
              "<pre style=\"white-space:pre;overflow-x:auto;line-height:normal;font-family:Menlo,'DejaVu Sans Mono',consolas,'Courier New',monospace\"><span style=\"font-weight: bold\"> Total params: </span><span style=\"color: #00af00; text-decoration-color: #00af00\">10,698</span> (41.79 KB)\n",
              "</pre>\n"
            ]
          },
          "metadata": {}
        },
        {
          "output_type": "display_data",
          "data": {
            "text/plain": [
              "\u001b[1m Trainable params: \u001b[0m\u001b[38;5;34m10,698\u001b[0m (41.79 KB)\n"
            ],
            "text/html": [
              "<pre style=\"white-space:pre;overflow-x:auto;line-height:normal;font-family:Menlo,'DejaVu Sans Mono',consolas,'Courier New',monospace\"><span style=\"font-weight: bold\"> Trainable params: </span><span style=\"color: #00af00; text-decoration-color: #00af00\">10,698</span> (41.79 KB)\n",
              "</pre>\n"
            ]
          },
          "metadata": {}
        },
        {
          "output_type": "display_data",
          "data": {
            "text/plain": [
              "\u001b[1m Non-trainable params: \u001b[0m\u001b[38;5;34m0\u001b[0m (0.00 B)\n"
            ],
            "text/html": [
              "<pre style=\"white-space:pre;overflow-x:auto;line-height:normal;font-family:Menlo,'DejaVu Sans Mono',consolas,'Courier New',monospace\"><span style=\"font-weight: bold\"> Non-trainable params: </span><span style=\"color: #00af00; text-decoration-color: #00af00\">0</span> (0.00 B)\n",
              "</pre>\n"
            ]
          },
          "metadata": {}
        }
      ]
    },
    {
      "cell_type": "markdown",
      "metadata": {
        "id": "K9QlbagMYzGR"
      },
      "source": [
        "## Baseline Approach: Compute the Mean MFCC Vector"
      ]
    },
    {
      "cell_type": "code",
      "execution_count": 12,
      "metadata": {
        "colab": {
          "base_uri": "https://localhost:8080/"
        },
        "id": "TrE0QvZgYCO4",
        "outputId": "727400d6-c929-4431-da50-7465b014d96f"
      },
      "outputs": [
        {
          "output_type": "stream",
          "name": "stdout",
          "text": [
            "Train vectors shape: (2100, 13)\n",
            "Train labels shape: 2100\n",
            "Validation vectors shape: (450, 13)\n",
            "Validation labels shape: 450\n",
            "Test vectors shape: (450, 13)\n",
            "Test labels shape: 450\n"
          ]
        }
      ],
      "source": [
        "# Compute mean MFCC vectors for training set\n",
        "train_mean_vectors = np.array([np.mean(mfcc, axis=0) for mfcc in train_mfccs_norm])\n",
        "# Shape: (n_train_utterances, n_mfcc)\n",
        "\n",
        "# Compute mean MFCC vectors for validation set\n",
        "val_mean_vectors = np.array([np.mean(mfcc, axis=0) for mfcc in val_mfccs_norm])\n",
        "# Shape: (n_val_utterances, n_mfcc)\n",
        "\n",
        "# Compute mean MFCC vectors for test set\n",
        "test_mean_vectors = np.array([np.mean(mfcc, axis=0) for mfcc in test_mfccs_norm])\n",
        "# Shape: (n_test_utterances, n_mfcc)\n",
        "\n",
        "print(\"Train vectors shape:\", train_mean_vectors.shape)\n",
        "print(\"Train labels shape:\", len(train_labels))\n",
        "print(\"Validation vectors shape:\", val_mean_vectors.shape)\n",
        "print(\"Validation labels shape:\", len(val_labels))\n",
        "print(\"Test vectors shape:\", test_mean_vectors.shape)\n",
        "print(\"Test labels shape:\", len(val_labels))"
      ]
    },
    {
      "cell_type": "code",
      "execution_count": 13,
      "metadata": {
        "colab": {
          "base_uri": "https://localhost:8080/"
        },
        "id": "wWACJ-MCcNDY",
        "outputId": "c4b12b56-0cd0-412b-a031-0ae04b128827"
      },
      "outputs": [
        {
          "output_type": "stream",
          "name": "stdout",
          "text": [
            "Train vectors shape: (2100, 13)\n",
            "Train labels shape: (2100,)\n",
            "Validation vectors shape: (450, 13)\n",
            "Validation labels shape: (450,)\n",
            "Test vectors shape: (450, 13)\n",
            "Test labels shape: (450,)\n"
          ]
        }
      ],
      "source": [
        "# Convert inputs and labels to NumPy arrays explicitly\n",
        "train_mean_vectors = np.array(train_mean_vectors, dtype=np.float32)\n",
        "val_mean_vectors = np.array(val_mean_vectors, dtype=np.float32)\n",
        "test_mean_vectors = np.array(test_mean_vectors, dtype=np.float32)\n",
        "train_labels = np.array(train_labels, dtype=np.int32)\n",
        "val_labels = np.array(val_labels, dtype=np.int32)\n",
        "test_labels = np.array(test_labels, dtype=np.int32)\n",
        "\n",
        "# Verify shapes\n",
        "print(\"Train vectors shape:\", train_mean_vectors.shape)\n",
        "print(\"Train labels shape:\", train_labels.shape)\n",
        "print(\"Validation vectors shape:\", val_mean_vectors.shape)\n",
        "print(\"Validation labels shape:\", val_labels.shape)\n",
        "print(\"Test vectors shape:\", test_mean_vectors.shape)\n",
        "print(\"Test labels shape:\", test_labels.shape)"
      ]
    },
    {
      "cell_type": "code",
      "execution_count": null,
      "metadata": {
        "colab": {
          "base_uri": "https://localhost:8080/"
        },
        "id": "cwZft2qnePOZ",
        "outputId": "e03ecbe4-da9b-4a3f-8c85-fd1512ace53f"
      },
      "outputs": [
        {
          "name": "stdout",
          "output_type": "stream",
          "text": [
            "Epoch 1/100\n",
            "\u001b[1m66/66\u001b[0m \u001b[32m━━━━━━━━━━━━━━━━━━━━\u001b[0m\u001b[37m\u001b[0m \u001b[1m4s\u001b[0m 32ms/step - accuracy: 0.2090 - loss: 2.1821 - val_accuracy: 0.5578 - val_loss: 1.7212\n",
            "Epoch 2/100\n",
            "\u001b[1m66/66\u001b[0m \u001b[32m━━━━━━━━━━━━━━━━━━━━\u001b[0m\u001b[37m\u001b[0m \u001b[1m2s\u001b[0m 4ms/step - accuracy: 0.4664 - loss: 1.6144 - val_accuracy: 0.7111 - val_loss: 1.1166\n",
            "Epoch 3/100\n",
            "\u001b[1m66/66\u001b[0m \u001b[32m━━━━━━━━━━━━━━━━━━━━\u001b[0m\u001b[37m\u001b[0m \u001b[1m0s\u001b[0m 4ms/step - accuracy: 0.6221 - loss: 1.1199 - val_accuracy: 0.7711 - val_loss: 0.7905\n",
            "Epoch 4/100\n",
            "\u001b[1m66/66\u001b[0m \u001b[32m━━━━━━━━━━━━━━━━━━━━\u001b[0m\u001b[37m\u001b[0m \u001b[1m0s\u001b[0m 4ms/step - accuracy: 0.6700 - loss: 0.9368 - val_accuracy: 0.8467 - val_loss: 0.6289\n",
            "Epoch 5/100\n",
            "\u001b[1m66/66\u001b[0m \u001b[32m━━━━━━━━━━━━━━━━━━━━\u001b[0m\u001b[37m\u001b[0m \u001b[1m0s\u001b[0m 4ms/step - accuracy: 0.7416 - loss: 0.7570 - val_accuracy: 0.8444 - val_loss: 0.5442\n",
            "Epoch 6/100\n",
            "\u001b[1m66/66\u001b[0m \u001b[32m━━━━━━━━━━━━━━━━━━━━\u001b[0m\u001b[37m\u001b[0m \u001b[1m0s\u001b[0m 3ms/step - accuracy: 0.7513 - loss: 0.6959 - val_accuracy: 0.8689 - val_loss: 0.4848\n",
            "Epoch 7/100\n",
            "\u001b[1m66/66\u001b[0m \u001b[32m━━━━━━━━━━━━━━━━━━━━\u001b[0m\u001b[37m\u001b[0m \u001b[1m0s\u001b[0m 4ms/step - accuracy: 0.7649 - loss: 0.6619 - val_accuracy: 0.8622 - val_loss: 0.4393\n",
            "Epoch 8/100\n",
            "\u001b[1m66/66\u001b[0m \u001b[32m━━━━━━━━━━━━━━━━━━━━\u001b[0m\u001b[37m\u001b[0m \u001b[1m0s\u001b[0m 3ms/step - accuracy: 0.7649 - loss: 0.6213 - val_accuracy: 0.8889 - val_loss: 0.4023\n",
            "Epoch 9/100\n",
            "\u001b[1m66/66\u001b[0m \u001b[32m━━━━━━━━━━━━━━━━━━━━\u001b[0m\u001b[37m\u001b[0m \u001b[1m0s\u001b[0m 4ms/step - accuracy: 0.8146 - loss: 0.5253 - val_accuracy: 0.8867 - val_loss: 0.3719\n",
            "Epoch 10/100\n",
            "\u001b[1m66/66\u001b[0m \u001b[32m━━━━━━━━━━━━━━━━━━━━\u001b[0m\u001b[37m\u001b[0m \u001b[1m0s\u001b[0m 5ms/step - accuracy: 0.8180 - loss: 0.5134 - val_accuracy: 0.8978 - val_loss: 0.3470\n",
            "Epoch 11/100\n",
            "\u001b[1m66/66\u001b[0m \u001b[32m━━━━━━━━━━━━━━━━━━━━\u001b[0m\u001b[37m\u001b[0m \u001b[1m1s\u001b[0m 4ms/step - accuracy: 0.8318 - loss: 0.4741 - val_accuracy: 0.9111 - val_loss: 0.3244\n",
            "Epoch 12/100\n",
            "\u001b[1m66/66\u001b[0m \u001b[32m━━━━━━━━━━━━━━━━━━━━\u001b[0m\u001b[37m\u001b[0m \u001b[1m0s\u001b[0m 3ms/step - accuracy: 0.8299 - loss: 0.4831 - val_accuracy: 0.9133 - val_loss: 0.3134\n",
            "Epoch 13/100\n",
            "\u001b[1m66/66\u001b[0m \u001b[32m━━━━━━━━━━━━━━━━━━━━\u001b[0m\u001b[37m\u001b[0m \u001b[1m0s\u001b[0m 4ms/step - accuracy: 0.8350 - loss: 0.4564 - val_accuracy: 0.9089 - val_loss: 0.2973\n",
            "Epoch 14/100\n",
            "\u001b[1m66/66\u001b[0m \u001b[32m━━━━━━━━━━━━━━━━━━━━\u001b[0m\u001b[37m\u001b[0m \u001b[1m0s\u001b[0m 3ms/step - accuracy: 0.8490 - loss: 0.4301 - val_accuracy: 0.9133 - val_loss: 0.2868\n",
            "Epoch 15/100\n",
            "\u001b[1m66/66\u001b[0m \u001b[32m━━━━━━━━━━━━━━━━━━━━\u001b[0m\u001b[37m\u001b[0m \u001b[1m0s\u001b[0m 4ms/step - accuracy: 0.8324 - loss: 0.4620 - val_accuracy: 0.9200 - val_loss: 0.2744\n",
            "Epoch 16/100\n",
            "\u001b[1m66/66\u001b[0m \u001b[32m━━━━━━━━━━━━━━━━━━━━\u001b[0m\u001b[37m\u001b[0m \u001b[1m0s\u001b[0m 4ms/step - accuracy: 0.8453 - loss: 0.4496 - val_accuracy: 0.9200 - val_loss: 0.2643\n",
            "Epoch 17/100\n",
            "\u001b[1m66/66\u001b[0m \u001b[32m━━━━━━━━━━━━━━━━━━━━\u001b[0m\u001b[37m\u001b[0m \u001b[1m0s\u001b[0m 3ms/step - accuracy: 0.8574 - loss: 0.4039 - val_accuracy: 0.9267 - val_loss: 0.2554\n",
            "Epoch 18/100\n",
            "\u001b[1m66/66\u001b[0m \u001b[32m━━━━━━━━━━━━━━━━━━━━\u001b[0m\u001b[37m\u001b[0m \u001b[1m0s\u001b[0m 4ms/step - accuracy: 0.8709 - loss: 0.3924 - val_accuracy: 0.9222 - val_loss: 0.2533\n",
            "Epoch 19/100\n",
            "\u001b[1m66/66\u001b[0m \u001b[32m━━━━━━━━━━━━━━━━━━━━\u001b[0m\u001b[37m\u001b[0m \u001b[1m0s\u001b[0m 4ms/step - accuracy: 0.8500 - loss: 0.4057 - val_accuracy: 0.9244 - val_loss: 0.2530\n",
            "Epoch 20/100\n",
            "\u001b[1m66/66\u001b[0m \u001b[32m━━━━━━━━━━━━━━━━━━━━\u001b[0m\u001b[37m\u001b[0m \u001b[1m0s\u001b[0m 4ms/step - accuracy: 0.8744 - loss: 0.3592 - val_accuracy: 0.9311 - val_loss: 0.2311\n",
            "Epoch 21/100\n",
            "\u001b[1m66/66\u001b[0m \u001b[32m━━━━━━━━━━━━━━━━━━━━\u001b[0m\u001b[37m\u001b[0m \u001b[1m0s\u001b[0m 3ms/step - accuracy: 0.8722 - loss: 0.3502 - val_accuracy: 0.9178 - val_loss: 0.2465\n",
            "Epoch 22/100\n",
            "\u001b[1m66/66\u001b[0m \u001b[32m━━━━━━━━━━━━━━━━━━━━\u001b[0m\u001b[37m\u001b[0m \u001b[1m0s\u001b[0m 4ms/step - accuracy: 0.8842 - loss: 0.3405 - val_accuracy: 0.9400 - val_loss: 0.2174\n",
            "Epoch 23/100\n",
            "\u001b[1m66/66\u001b[0m \u001b[32m━━━━━━━━━━━━━━━━━━━━\u001b[0m\u001b[37m\u001b[0m \u001b[1m0s\u001b[0m 3ms/step - accuracy: 0.8952 - loss: 0.3320 - val_accuracy: 0.9289 - val_loss: 0.2157\n",
            "Epoch 24/100\n",
            "\u001b[1m66/66\u001b[0m \u001b[32m━━━━━━━━━━━━━━━━━━━━\u001b[0m\u001b[37m\u001b[0m \u001b[1m0s\u001b[0m 3ms/step - accuracy: 0.8812 - loss: 0.3353 - val_accuracy: 0.9356 - val_loss: 0.2097\n",
            "Epoch 25/100\n",
            "\u001b[1m66/66\u001b[0m \u001b[32m━━━━━━━━━━━━━━━━━━━━\u001b[0m\u001b[37m\u001b[0m \u001b[1m0s\u001b[0m 4ms/step - accuracy: 0.8826 - loss: 0.3352 - val_accuracy: 0.9444 - val_loss: 0.2025\n",
            "Epoch 26/100\n",
            "\u001b[1m66/66\u001b[0m \u001b[32m━━━━━━━━━━━━━━━━━━━━\u001b[0m\u001b[37m\u001b[0m \u001b[1m0s\u001b[0m 4ms/step - accuracy: 0.9011 - loss: 0.2951 - val_accuracy: 0.9422 - val_loss: 0.2049\n",
            "Epoch 27/100\n",
            "\u001b[1m66/66\u001b[0m \u001b[32m━━━━━━━━━━━━━━━━━━━━\u001b[0m\u001b[37m\u001b[0m \u001b[1m0s\u001b[0m 3ms/step - accuracy: 0.9006 - loss: 0.3011 - val_accuracy: 0.9378 - val_loss: 0.1973\n",
            "Epoch 28/100\n",
            "\u001b[1m66/66\u001b[0m \u001b[32m━━━━━━━━━━━━━━━━━━━━\u001b[0m\u001b[37m\u001b[0m \u001b[1m0s\u001b[0m 4ms/step - accuracy: 0.8842 - loss: 0.3189 - val_accuracy: 0.9333 - val_loss: 0.2100\n",
            "Epoch 29/100\n",
            "\u001b[1m66/66\u001b[0m \u001b[32m━━━━━━━━━━━━━━━━━━━━\u001b[0m\u001b[37m\u001b[0m \u001b[1m0s\u001b[0m 4ms/step - accuracy: 0.8886 - loss: 0.3161 - val_accuracy: 0.9444 - val_loss: 0.1813\n",
            "Epoch 30/100\n",
            "\u001b[1m66/66\u001b[0m \u001b[32m━━━━━━━━━━━━━━━━━━━━\u001b[0m\u001b[37m\u001b[0m \u001b[1m0s\u001b[0m 4ms/step - accuracy: 0.8986 - loss: 0.2878 - val_accuracy: 0.9400 - val_loss: 0.1869\n",
            "Epoch 31/100\n",
            "\u001b[1m66/66\u001b[0m \u001b[32m━━━━━━━━━━━━━━━━━━━━\u001b[0m\u001b[37m\u001b[0m \u001b[1m0s\u001b[0m 4ms/step - accuracy: 0.9072 - loss: 0.2913 - val_accuracy: 0.9556 - val_loss: 0.1749\n",
            "Epoch 32/100\n",
            "\u001b[1m66/66\u001b[0m \u001b[32m━━━━━━━━━━━━━━━━━━━━\u001b[0m\u001b[37m\u001b[0m \u001b[1m0s\u001b[0m 3ms/step - accuracy: 0.9161 - loss: 0.2555 - val_accuracy: 0.9400 - val_loss: 0.1869\n",
            "Epoch 33/100\n",
            "\u001b[1m66/66\u001b[0m \u001b[32m━━━━━━━━━━━━━━━━━━━━\u001b[0m\u001b[37m\u001b[0m \u001b[1m0s\u001b[0m 5ms/step - accuracy: 0.9051 - loss: 0.2817 - val_accuracy: 0.9422 - val_loss: 0.1810\n",
            "Epoch 34/100\n",
            "\u001b[1m66/66\u001b[0m \u001b[32m━━━━━━━━━━━━━━━━━━━━\u001b[0m\u001b[37m\u001b[0m \u001b[1m0s\u001b[0m 5ms/step - accuracy: 0.8997 - loss: 0.2853 - val_accuracy: 0.9556 - val_loss: 0.1775\n",
            "Epoch 35/100\n",
            "\u001b[1m66/66\u001b[0m \u001b[32m━━━━━━━━━━━━━━━━━━━━\u001b[0m\u001b[37m\u001b[0m \u001b[1m0s\u001b[0m 6ms/step - accuracy: 0.9105 - loss: 0.2668 - val_accuracy: 0.9444 - val_loss: 0.1770\n",
            "Epoch 36/100\n",
            "\u001b[1m66/66\u001b[0m \u001b[32m━━━━━━━━━━━━━━━━━━━━\u001b[0m\u001b[37m\u001b[0m \u001b[1m0s\u001b[0m 6ms/step - accuracy: 0.9018 - loss: 0.2764 - val_accuracy: 0.9511 - val_loss: 0.1679\n",
            "Epoch 37/100\n",
            "\u001b[1m66/66\u001b[0m \u001b[32m━━━━━━━━━━━━━━━━━━━━\u001b[0m\u001b[37m\u001b[0m \u001b[1m0s\u001b[0m 7ms/step - accuracy: 0.9178 - loss: 0.2605 - val_accuracy: 0.9489 - val_loss: 0.1665\n",
            "Epoch 38/100\n",
            "\u001b[1m66/66\u001b[0m \u001b[32m━━━━━━━━━━━━━━━━━━━━\u001b[0m\u001b[37m\u001b[0m \u001b[1m0s\u001b[0m 4ms/step - accuracy: 0.9298 - loss: 0.2416 - val_accuracy: 0.9444 - val_loss: 0.1708\n",
            "Epoch 39/100\n",
            "\u001b[1m66/66\u001b[0m \u001b[32m━━━━━━━━━━━━━━━━━━━━\u001b[0m\u001b[37m\u001b[0m \u001b[1m0s\u001b[0m 4ms/step - accuracy: 0.9137 - loss: 0.2479 - val_accuracy: 0.9444 - val_loss: 0.1743\n",
            "Epoch 40/100\n",
            "\u001b[1m66/66\u001b[0m \u001b[32m━━━━━━━━━━━━━━━━━━━━\u001b[0m\u001b[37m\u001b[0m \u001b[1m0s\u001b[0m 4ms/step - accuracy: 0.9208 - loss: 0.2438 - val_accuracy: 0.9489 - val_loss: 0.1654\n",
            "Epoch 41/100\n",
            "\u001b[1m66/66\u001b[0m \u001b[32m━━━━━━━━━━━━━━━━━━━━\u001b[0m\u001b[37m\u001b[0m \u001b[1m0s\u001b[0m 4ms/step - accuracy: 0.9145 - loss: 0.2454 - val_accuracy: 0.9422 - val_loss: 0.1733\n",
            "Epoch 42/100\n",
            "\u001b[1m66/66\u001b[0m \u001b[32m━━━━━━━━━━━━━━━━━━━━\u001b[0m\u001b[37m\u001b[0m \u001b[1m0s\u001b[0m 4ms/step - accuracy: 0.9131 - loss: 0.2524 - val_accuracy: 0.9533 - val_loss: 0.1599\n",
            "Epoch 43/100\n",
            "\u001b[1m66/66\u001b[0m \u001b[32m━━━━━━━━━━━━━━━━━━━━\u001b[0m\u001b[37m\u001b[0m \u001b[1m0s\u001b[0m 4ms/step - accuracy: 0.9109 - loss: 0.2427 - val_accuracy: 0.9511 - val_loss: 0.1583\n",
            "Epoch 44/100\n",
            "\u001b[1m66/66\u001b[0m \u001b[32m━━━━━━━━━━━━━━━━━━━━\u001b[0m\u001b[37m\u001b[0m \u001b[1m0s\u001b[0m 4ms/step - accuracy: 0.9383 - loss: 0.1977 - val_accuracy: 0.9533 - val_loss: 0.1704\n",
            "Epoch 45/100\n",
            "\u001b[1m66/66\u001b[0m \u001b[32m━━━━━━━━━━━━━━━━━━━━\u001b[0m\u001b[37m\u001b[0m \u001b[1m0s\u001b[0m 3ms/step - accuracy: 0.9139 - loss: 0.2391 - val_accuracy: 0.9511 - val_loss: 0.1607\n",
            "Epoch 46/100\n",
            "\u001b[1m66/66\u001b[0m \u001b[32m━━━━━━━━━━━━━━━━━━━━\u001b[0m\u001b[37m\u001b[0m \u001b[1m0s\u001b[0m 4ms/step - accuracy: 0.9239 - loss: 0.2282 - val_accuracy: 0.9556 - val_loss: 0.1561\n",
            "Epoch 47/100\n",
            "\u001b[1m66/66\u001b[0m \u001b[32m━━━━━━━━━━━━━━━━━━━━\u001b[0m\u001b[37m\u001b[0m \u001b[1m0s\u001b[0m 3ms/step - accuracy: 0.9319 - loss: 0.2203 - val_accuracy: 0.9533 - val_loss: 0.1563\n",
            "Epoch 48/100\n",
            "\u001b[1m66/66\u001b[0m \u001b[32m━━━━━━━━━━━━━━━━━━━━\u001b[0m\u001b[37m\u001b[0m \u001b[1m0s\u001b[0m 4ms/step - accuracy: 0.9360 - loss: 0.1999 - val_accuracy: 0.9556 - val_loss: 0.1491\n",
            "Epoch 49/100\n",
            "\u001b[1m66/66\u001b[0m \u001b[32m━━━━━━━━━━━━━━━━━━━━\u001b[0m\u001b[37m\u001b[0m \u001b[1m0s\u001b[0m 3ms/step - accuracy: 0.9265 - loss: 0.2189 - val_accuracy: 0.9467 - val_loss: 0.1551\n",
            "Epoch 50/100\n",
            "\u001b[1m66/66\u001b[0m \u001b[32m━━━━━━━━━━━━━━━━━━━━\u001b[0m\u001b[37m\u001b[0m \u001b[1m0s\u001b[0m 4ms/step - accuracy: 0.9316 - loss: 0.2117 - val_accuracy: 0.9533 - val_loss: 0.1467\n",
            "Epoch 51/100\n",
            "\u001b[1m66/66\u001b[0m \u001b[32m━━━━━━━━━━━━━━━━━━━━\u001b[0m\u001b[37m\u001b[0m \u001b[1m0s\u001b[0m 4ms/step - accuracy: 0.9346 - loss: 0.2002 - val_accuracy: 0.9556 - val_loss: 0.1525\n",
            "Epoch 52/100\n",
            "\u001b[1m66/66\u001b[0m \u001b[32m━━━━━━━━━━━━━━━━━━━━\u001b[0m\u001b[37m\u001b[0m \u001b[1m0s\u001b[0m 4ms/step - accuracy: 0.9268 - loss: 0.2179 - val_accuracy: 0.9533 - val_loss: 0.1551\n",
            "Epoch 53/100\n",
            "\u001b[1m66/66\u001b[0m \u001b[32m━━━━━━━━━━━━━━━━━━━━\u001b[0m\u001b[37m\u001b[0m \u001b[1m0s\u001b[0m 4ms/step - accuracy: 0.9319 - loss: 0.2053 - val_accuracy: 0.9556 - val_loss: 0.1520\n",
            "Epoch 54/100\n",
            "\u001b[1m66/66\u001b[0m \u001b[32m━━━━━━━━━━━━━━━━━━━━\u001b[0m\u001b[37m\u001b[0m \u001b[1m0s\u001b[0m 4ms/step - accuracy: 0.9459 - loss: 0.1664 - val_accuracy: 0.9444 - val_loss: 0.1462\n",
            "Epoch 55/100\n",
            "\u001b[1m66/66\u001b[0m \u001b[32m━━━━━━━━━━━━━━━━━━━━\u001b[0m\u001b[37m\u001b[0m \u001b[1m0s\u001b[0m 3ms/step - accuracy: 0.9332 - loss: 0.2231 - val_accuracy: 0.9511 - val_loss: 0.1511\n",
            "Epoch 56/100\n",
            "\u001b[1m66/66\u001b[0m \u001b[32m━━━━━━━━━━━━━━━━━━━━\u001b[0m\u001b[37m\u001b[0m \u001b[1m0s\u001b[0m 4ms/step - accuracy: 0.9317 - loss: 0.1933 - val_accuracy: 0.9556 - val_loss: 0.1439\n",
            "Epoch 57/100\n",
            "\u001b[1m66/66\u001b[0m \u001b[32m━━━━━━━━━━━━━━━━━━━━\u001b[0m\u001b[37m\u001b[0m \u001b[1m0s\u001b[0m 4ms/step - accuracy: 0.9327 - loss: 0.1897 - val_accuracy: 0.9444 - val_loss: 0.1418\n",
            "Epoch 58/100\n",
            "\u001b[1m66/66\u001b[0m \u001b[32m━━━━━━━━━━━━━━━━━━━━\u001b[0m\u001b[37m\u001b[0m \u001b[1m0s\u001b[0m 4ms/step - accuracy: 0.9405 - loss: 0.1785 - val_accuracy: 0.9511 - val_loss: 0.1370\n",
            "Epoch 59/100\n",
            "\u001b[1m66/66\u001b[0m \u001b[32m━━━━━━━━━━━━━━━━━━━━\u001b[0m\u001b[37m\u001b[0m \u001b[1m0s\u001b[0m 4ms/step - accuracy: 0.9303 - loss: 0.2099 - val_accuracy: 0.9489 - val_loss: 0.1452\n",
            "Epoch 60/100\n",
            "\u001b[1m66/66\u001b[0m \u001b[32m━━━━━━━━━━━━━━━━━━━━\u001b[0m\u001b[37m\u001b[0m \u001b[1m0s\u001b[0m 4ms/step - accuracy: 0.9299 - loss: 0.1948 - val_accuracy: 0.9511 - val_loss: 0.1569\n",
            "Epoch 61/100\n",
            "\u001b[1m66/66\u001b[0m \u001b[32m━━━━━━━━━━━━━━━━━━━━\u001b[0m\u001b[37m\u001b[0m \u001b[1m0s\u001b[0m 4ms/step - accuracy: 0.9304 - loss: 0.2067 - val_accuracy: 0.9489 - val_loss: 0.1507\n",
            "Epoch 62/100\n",
            "\u001b[1m66/66\u001b[0m \u001b[32m━━━━━━━━━━━━━━━━━━━━\u001b[0m\u001b[37m\u001b[0m \u001b[1m0s\u001b[0m 4ms/step - accuracy: 0.9399 - loss: 0.1702 - val_accuracy: 0.9467 - val_loss: 0.1506\n",
            "Epoch 63/100\n",
            "\u001b[1m66/66\u001b[0m \u001b[32m━━━━━━━━━━━━━━━━━━━━\u001b[0m\u001b[37m\u001b[0m \u001b[1m0s\u001b[0m 3ms/step - accuracy: 0.9383 - loss: 0.1810 - val_accuracy: 0.9489 - val_loss: 0.1377\n",
            "Epoch 64/100\n",
            "\u001b[1m66/66\u001b[0m \u001b[32m━━━━━━━━━━━━━━━━━━━━\u001b[0m\u001b[37m\u001b[0m \u001b[1m0s\u001b[0m 4ms/step - accuracy: 0.9362 - loss: 0.1833 - val_accuracy: 0.9533 - val_loss: 0.1388\n",
            "Epoch 65/100\n",
            "\u001b[1m66/66\u001b[0m \u001b[32m━━━━━━━━━━━━━━━━━━━━\u001b[0m\u001b[37m\u001b[0m \u001b[1m0s\u001b[0m 4ms/step - accuracy: 0.9399 - loss: 0.1752 - val_accuracy: 0.9467 - val_loss: 0.1333\n",
            "Epoch 66/100\n",
            "\u001b[1m66/66\u001b[0m \u001b[32m━━━━━━━━━━━━━━━━━━━━\u001b[0m\u001b[37m\u001b[0m \u001b[1m0s\u001b[0m 3ms/step - accuracy: 0.9331 - loss: 0.1898 - val_accuracy: 0.9511 - val_loss: 0.1466\n",
            "Epoch 67/100\n",
            "\u001b[1m66/66\u001b[0m \u001b[32m━━━━━━━━━━━━━━━━━━━━\u001b[0m\u001b[37m\u001b[0m \u001b[1m0s\u001b[0m 3ms/step - accuracy: 0.9365 - loss: 0.1791 - val_accuracy: 0.9511 - val_loss: 0.1373\n",
            "Epoch 68/100\n",
            "\u001b[1m66/66\u001b[0m \u001b[32m━━━━━━━━━━━━━━━━━━━━\u001b[0m\u001b[37m\u001b[0m \u001b[1m0s\u001b[0m 4ms/step - accuracy: 0.9369 - loss: 0.1671 - val_accuracy: 0.9489 - val_loss: 0.1464\n",
            "Epoch 69/100\n",
            "\u001b[1m66/66\u001b[0m \u001b[32m━━━━━━━━━━━━━━━━━━━━\u001b[0m\u001b[37m\u001b[0m \u001b[1m0s\u001b[0m 4ms/step - accuracy: 0.9446 - loss: 0.1593 - val_accuracy: 0.9422 - val_loss: 0.1566\n",
            "Epoch 70/100\n",
            "\u001b[1m66/66\u001b[0m \u001b[32m━━━━━━━━━━━━━━━━━━━━\u001b[0m\u001b[37m\u001b[0m \u001b[1m0s\u001b[0m 4ms/step - accuracy: 0.9265 - loss: 0.1874 - val_accuracy: 0.9444 - val_loss: 0.1468\n",
            "Epoch 71/100\n",
            "\u001b[1m66/66\u001b[0m \u001b[32m━━━━━━━━━━━━━━━━━━━━\u001b[0m\u001b[37m\u001b[0m \u001b[1m0s\u001b[0m 4ms/step - accuracy: 0.9365 - loss: 0.1831 - val_accuracy: 0.9489 - val_loss: 0.1455\n",
            "Epoch 72/100\n",
            "\u001b[1m66/66\u001b[0m \u001b[32m━━━━━━━━━━━━━━━━━━━━\u001b[0m\u001b[37m\u001b[0m \u001b[1m0s\u001b[0m 3ms/step - accuracy: 0.9384 - loss: 0.1815 - val_accuracy: 0.9600 - val_loss: 0.1293\n",
            "Epoch 73/100\n",
            "\u001b[1m66/66\u001b[0m \u001b[32m━━━━━━━━━━━━━━━━━━━━\u001b[0m\u001b[37m\u001b[0m \u001b[1m0s\u001b[0m 5ms/step - accuracy: 0.9412 - loss: 0.1581 - val_accuracy: 0.9511 - val_loss: 0.1300\n",
            "Epoch 74/100\n",
            "\u001b[1m66/66\u001b[0m \u001b[32m━━━━━━━━━━━━━━━━━━━━\u001b[0m\u001b[37m\u001b[0m \u001b[1m0s\u001b[0m 6ms/step - accuracy: 0.9480 - loss: 0.1550 - val_accuracy: 0.9556 - val_loss: 0.1221\n",
            "Epoch 75/100\n",
            "\u001b[1m66/66\u001b[0m \u001b[32m━━━━━━━━━━━━━━━━━━━━\u001b[0m\u001b[37m\u001b[0m \u001b[1m1s\u001b[0m 6ms/step - accuracy: 0.9547 - loss: 0.1423 - val_accuracy: 0.9489 - val_loss: 0.1296\n",
            "Epoch 76/100\n",
            "\u001b[1m66/66\u001b[0m \u001b[32m━━━━━━━━━━━━━━━━━━━━\u001b[0m\u001b[37m\u001b[0m \u001b[1m0s\u001b[0m 5ms/step - accuracy: 0.9447 - loss: 0.1712 - val_accuracy: 0.9556 - val_loss: 0.1263\n",
            "Epoch 77/100\n",
            "\u001b[1m66/66\u001b[0m \u001b[32m━━━━━━━━━━━━━━━━━━━━\u001b[0m\u001b[37m\u001b[0m \u001b[1m0s\u001b[0m 4ms/step - accuracy: 0.9448 - loss: 0.1618 - val_accuracy: 0.9533 - val_loss: 0.1378\n",
            "Epoch 78/100\n",
            "\u001b[1m66/66\u001b[0m \u001b[32m━━━━━━━━━━━━━━━━━━━━\u001b[0m\u001b[37m\u001b[0m \u001b[1m1s\u001b[0m 3ms/step - accuracy: 0.9372 - loss: 0.1715 - val_accuracy: 0.9444 - val_loss: 0.1375\n",
            "Epoch 79/100\n",
            "\u001b[1m66/66\u001b[0m \u001b[32m━━━━━━━━━━━━━━━━━━━━\u001b[0m\u001b[37m\u001b[0m \u001b[1m0s\u001b[0m 4ms/step - accuracy: 0.9383 - loss: 0.1588 - val_accuracy: 0.9578 - val_loss: 0.1239\n",
            "Epoch 80/100\n",
            "\u001b[1m66/66\u001b[0m \u001b[32m━━━━━━━━━━━━━━━━━━━━\u001b[0m\u001b[37m\u001b[0m \u001b[1m0s\u001b[0m 4ms/step - accuracy: 0.9441 - loss: 0.1530 - val_accuracy: 0.9511 - val_loss: 0.1354\n",
            "Epoch 81/100\n",
            "\u001b[1m66/66\u001b[0m \u001b[32m━━━━━━━━━━━━━━━━━━━━\u001b[0m\u001b[37m\u001b[0m \u001b[1m0s\u001b[0m 3ms/step - accuracy: 0.9310 - loss: 0.1911 - val_accuracy: 0.9467 - val_loss: 0.1410\n",
            "Epoch 82/100\n",
            "\u001b[1m66/66\u001b[0m \u001b[32m━━━━━━━━━━━━━━━━━━━━\u001b[0m\u001b[37m\u001b[0m \u001b[1m0s\u001b[0m 4ms/step - accuracy: 0.9482 - loss: 0.1531 - val_accuracy: 0.9489 - val_loss: 0.1221\n",
            "Epoch 83/100\n",
            "\u001b[1m66/66\u001b[0m \u001b[32m━━━━━━━━━━━━━━━━━━━━\u001b[0m\u001b[37m\u001b[0m \u001b[1m0s\u001b[0m 4ms/step - accuracy: 0.9389 - loss: 0.1838 - val_accuracy: 0.9533 - val_loss: 0.1360\n",
            "Epoch 84/100\n",
            "\u001b[1m66/66\u001b[0m \u001b[32m━━━━━━━━━━━━━━━━━━━━\u001b[0m\u001b[37m\u001b[0m \u001b[1m0s\u001b[0m 3ms/step - accuracy: 0.9533 - loss: 0.1577 - val_accuracy: 0.9489 - val_loss: 0.1380\n",
            "Epoch 85/100\n",
            "\u001b[1m66/66\u001b[0m \u001b[32m━━━━━━━━━━━━━━━━━━━━\u001b[0m\u001b[37m\u001b[0m \u001b[1m0s\u001b[0m 4ms/step - accuracy: 0.9549 - loss: 0.1383 - val_accuracy: 0.9533 - val_loss: 0.1350\n",
            "Epoch 86/100\n",
            "\u001b[1m66/66\u001b[0m \u001b[32m━━━━━━━━━━━━━━━━━━━━\u001b[0m\u001b[37m\u001b[0m \u001b[1m0s\u001b[0m 4ms/step - accuracy: 0.9508 - loss: 0.1634 - val_accuracy: 0.9533 - val_loss: 0.1289\n",
            "Epoch 87/100\n",
            "\u001b[1m66/66\u001b[0m \u001b[32m━━━━━━━━━━━━━━━━━━━━\u001b[0m\u001b[37m\u001b[0m \u001b[1m0s\u001b[0m 4ms/step - accuracy: 0.9459 - loss: 0.1474 - val_accuracy: 0.9467 - val_loss: 0.1286\n",
            "Epoch 88/100\n",
            "\u001b[1m66/66\u001b[0m \u001b[32m━━━━━━━━━━━━━━━━━━━━\u001b[0m\u001b[37m\u001b[0m \u001b[1m0s\u001b[0m 3ms/step - accuracy: 0.9591 - loss: 0.1397 - val_accuracy: 0.9533 - val_loss: 0.1373\n",
            "Epoch 89/100\n",
            "\u001b[1m66/66\u001b[0m \u001b[32m━━━━━━━━━━━━━━━━━━━━\u001b[0m\u001b[37m\u001b[0m \u001b[1m0s\u001b[0m 4ms/step - accuracy: 0.9582 - loss: 0.1560 - val_accuracy: 0.9467 - val_loss: 0.1283\n",
            "Epoch 90/100\n",
            "\u001b[1m66/66\u001b[0m \u001b[32m━━━━━━━━━━━━━━━━━━━━\u001b[0m\u001b[37m\u001b[0m \u001b[1m0s\u001b[0m 4ms/step - accuracy: 0.9549 - loss: 0.1470 - val_accuracy: 0.9511 - val_loss: 0.1335\n",
            "Epoch 91/100\n",
            "\u001b[1m66/66\u001b[0m \u001b[32m━━━━━━━━━━━━━━━━━━━━\u001b[0m\u001b[37m\u001b[0m \u001b[1m0s\u001b[0m 4ms/step - accuracy: 0.9500 - loss: 0.1432 - val_accuracy: 0.9533 - val_loss: 0.1289\n",
            "Epoch 92/100\n",
            "\u001b[1m66/66\u001b[0m \u001b[32m━━━━━━━━━━━━━━━━━━━━\u001b[0m\u001b[37m\u001b[0m \u001b[1m0s\u001b[0m 4ms/step - accuracy: 0.9557 - loss: 0.1401 - val_accuracy: 0.9489 - val_loss: 0.1344\n",
            "Test Accuracy: 0.9333\n",
            "Test Loss: 0.2538\n"
          ]
        }
      ],
      "source": [
        "from tensorflow.keras.callbacks import EarlyStopping\n",
        "\n",
        "# Create the MLP model\n",
        "n_mfcc = train_mean_vectors.shape[1]  # e.g., 13\n",
        "mlp_model_baseline = create_mlp_classifier(input_dim=n_mfcc)\n",
        "\n",
        "\n",
        "# Define early stopping to prevent overfitting\n",
        "early_stopping = EarlyStopping(\n",
        "    monitor='val_loss',\n",
        "    patience=10,\n",
        "    restore_best_weights=True\n",
        ")\n",
        "\n",
        "# Train the model\n",
        "history_baseline = mlp_model_baseline.fit(\n",
        "    train_mean_vectors, train_labels,\n",
        "    validation_data=(val_mean_vectors, val_labels),\n",
        "    epochs=100,\n",
        "    batch_size=32,\n",
        "    callbacks=[early_stopping],\n",
        "    verbose=1\n",
        ")\n",
        "\n",
        "# Evaluate the model on the test set\n",
        "test_loss_baseline, test_accuracy_baseline = mlp_model_baseline.evaluate(test_mean_vectors, test_labels, verbose=0)\n",
        "print(f\"Test Accuracy: {test_accuracy_baseline:.4f}\")\n",
        "print(f\"Test Loss: {test_loss_baseline:.4f}\")"
      ]
    },
    {
      "cell_type": "code",
      "execution_count": null,
      "metadata": {
        "colab": {
          "base_uri": "https://localhost:8080/",
          "height": 507
        },
        "id": "wBDEb5__dbwh",
        "outputId": "e8b8e929-8128-4495-d348-14a25aa109b8"
      },
      "outputs": [
        {
          "data": {
            "image/png": "[encoded data removed]",
            "text/plain": [
              "<Figure size 1200x500 with 2 Axes>"
            ]
          },
          "metadata": {},
          "output_type": "display_data"
        }
      ],
      "source": [
        "import matplotlib.pyplot as plt\n",
        "\n",
        "# Assuming history_baseline is available from the model training\n",
        "# history_baseline = mlp_model_baseline.fit(...)\n",
        "\n",
        "# Extract metrics from history\n",
        "train_loss = history_baseline.history['loss']\n",
        "val_loss = history_baseline.history['val_loss']\n",
        "train_accuracy = history_baseline.history['accuracy']\n",
        "val_accuracy = history_baseline.history['val_accuracy']\n",
        "epochs = range(1, len(train_loss) + 1)\n",
        "\n",
        "# Create a figure with two subplots\n",
        "fig, (ax1, ax2) = plt.subplots(1, 2, figsize=(12, 5))\n",
        "\n",
        "# Plot accuracy\n",
        "ax1.plot(epochs, train_accuracy, 'b-', label='Training Accuracy')\n",
        "ax1.plot(epochs, val_accuracy, 'r-', label='Validation Accuracy')\n",
        "ax1.set_title('Training and Validation Accuracy')\n",
        "ax1.set_xlabel('Epochs')\n",
        "ax1.set_ylabel('Accuracy')\n",
        "ax1.legend()\n",
        "ax1.grid(True)\n",
        "\n",
        "# Plot loss\n",
        "ax2.plot(epochs, train_loss, 'b-', label='Training Loss')\n",
        "ax2.plot(epochs, val_loss, 'r-', label='Validation Loss')\n",
        "ax2.set_title('Training and Validation Loss')\n",
        "ax2.set_xlabel('Epochs')\n",
        "ax2.set_ylabel('Loss')\n",
        "ax2.legend()\n",
        "ax2.grid(True)\n",
        "\n",
        "# Adjust layout to prevent overlap\n",
        "plt.tight_layout()\n",
        "\n",
        "# Save the plot to a file\n",
        "plt.savefig('training_progress_baseline.png')\n",
        "\n",
        "# Display the plot\n",
        "plt.show()"
      ]
    },
    {
      "cell_type": "markdown",
      "metadata": {
        "id": "6nI7HDjQgDd0"
      },
      "source": []
    },
    {
      "cell_type": "markdown",
      "metadata": {
        "id": "ZfghcwT5gTzS"
      },
      "source": [
        "## Approach 1: Concatenation with Padding"
      ]
    },
    {
      "cell_type": "code",
      "execution_count": null,
      "metadata": {
        "colab": {
          "base_uri": "https://localhost:8080/"
        },
        "id": "VJan8A2rfQ_6",
        "outputId": "84f8a2f8-9b5a-4d7b-ab00-e1d29ccf74e5"
      },
      "outputs": [
        {
          "name": "stdout",
          "output_type": "stream",
          "text": [
            "Train flattened shape: (2100, 3965)\n",
            "Validation flattened shape: (450, 3965)\n",
            "Test flattened shape: (450, 3965)\n"
          ]
        }
      ],
      "source": [
        "# Step 1: Find the maximum number of frames\n",
        "max_frames = max(max(mfcc.shape[0] for mfcc in train_mfccs_norm),\n",
        "                 max(mfcc.shape[0] for mfcc in val_mfccs_norm),\n",
        "                 max(mfcc.shape[0] for mfcc in test_mfccs_norm))\n",
        "\n",
        "# Step 2: Pad and flatten MFCCs\n",
        "def pad_and_flatten_mfccs(mfccs, max_frames, n_mfcc):\n",
        "    \"\"\"\n",
        "    Pad MFCC matrices to max_frames and flatten to a single vector.\n",
        "\n",
        "    Parameters:\n",
        "    - mfccs: List of MFCC matrices, each shape (n_frames_i, n_mfcc)\n",
        "    - max_frames: Maximum number of frames to pad to\n",
        "    - n_mfcc: Number of MFCC coefficients\n",
        "\n",
        "    Returns:\n",
        "    - Flattened array of shape (n_utterances, max_frames * n_mfcc)\n",
        "    \"\"\"\n",
        "    flattened = []\n",
        "    for mfcc in mfccs:\n",
        "        # Pad with zeros to (max_frames, n_mfcc)\n",
        "        pad_width = ((0, max_frames - mfcc.shape[0]), (0, 0))\n",
        "        padded = np.pad(mfcc, pad_width, mode='constant', constant_values=0)\n",
        "        # Flatten to 1D vector\n",
        "        flattened.append(padded.flatten())\n",
        "    return np.array(flattened, dtype=np.float32)\n",
        "\n",
        "# Process all sets\n",
        "train_flattened = pad_and_flatten_mfccs(train_mfccs_norm, max_frames, n_mfcc)\n",
        "val_flattened = pad_and_flatten_mfccs(val_mfccs_norm, max_frames, n_mfcc)\n",
        "test_flattened = pad_and_flatten_mfccs(test_mfccs_norm, max_frames, n_mfcc)\n",
        "\n",
        "# Verify shapes\n",
        "print(\"Train flattened shape:\", train_flattened.shape)\n",
        "print(\"Validation flattened shape:\", val_flattened.shape)\n",
        "print(\"Test flattened shape:\", test_flattened.shape)"
      ]
    },
    {
      "cell_type": "code",
      "execution_count": null,
      "metadata": {
        "colab": {
          "base_uri": "https://localhost:8080/"
        },
        "id": "l2rYRNlFgcOT",
        "outputId": "842da4f2-35ff-4f7b-e94e-aa185632d0eb"
      },
      "outputs": [
        {
          "output_type": "stream",
          "name": "stdout",
          "text": [
            "\n",
            "Testing bottleneck dimension: 50\n",
            "Approach 1 Test Accuracy for 50D: 0.7378\n",
            "Approach 1 Test Loss for 50D: 0.7802\n",
            "\n",
            "Testing bottleneck dimension: 100\n",
            "Approach 1 Test Accuracy for 100D: 0.8244\n",
            "Approach 1 Test Loss for 100D: 0.5429\n",
            "\n",
            "Testing bottleneck dimension: 150\n",
            "Approach 1 Test Accuracy for 150D: 0.8711\n",
            "Approach 1 Test Loss for 150D: 0.4252\n",
            "\n",
            "Testing bottleneck dimension: 200\n",
            "Approach 1 Test Accuracy for 200D: 0.8933\n",
            "Approach 1 Test Loss for 200D: 0.3609\n",
            "\n",
            "Testing bottleneck dimension: 250\n",
            "Approach 1 Test Accuracy for 250D: 0.8756\n",
            "Approach 1 Test Loss for 250D: 0.4337\n",
            "\n",
            "Testing bottleneck dimension: 300\n",
            "Approach 1 Test Accuracy for 300D: 0.9022\n",
            "Approach 1 Test Loss for 300D: 0.3412\n",
            "\n",
            "Testing bottleneck dimension: 350\n",
            "Approach 1 Test Accuracy for 350D: 0.9200\n",
            "Approach 1 Test Loss for 350D: 0.2789\n",
            "\n",
            "Testing bottleneck dimension: 400\n",
            "Approach 1 Test Accuracy for 400D: 0.9089\n",
            "Approach 1 Test Loss for 400D: 0.3151\n"
          ]
        }
      ],
      "source": [
        "# Define the autoencoder function\n",
        "def create_autoencoder_1(input_dim, encoding_dim=400):\n",
        "    \"\"\"\n",
        "    Create a simpler autoencoder with L2 regularization.\n",
        "    \"\"\"\n",
        "    autoencoder = Sequential([\n",
        "        Input(shape=(input_dim,)),\n",
        "        Dense(256, activation='relu', kernel_regularizer=l2(0.001)),\n",
        "        Dense(encoding_dim, activation='relu', name='encoding'),\n",
        "        Dense(256, activation='relu', kernel_regularizer=l2(0.001)),\n",
        "        Dense(input_dim, activation='linear')\n",
        "    ])\n",
        "\n",
        "    encoder = Sequential([\n",
        "        Input(shape=(input_dim,)),\n",
        "        Dense(256, activation='relu', kernel_regularizer=l2(0.001)),\n",
        "        Dense(encoding_dim, activation='relu')\n",
        "    ])\n",
        "\n",
        "    autoencoder.compile(optimizer='adam', loss='mse')\n",
        "    return autoencoder, encoder\n",
        "\n",
        "# Set up bottleneck dimensions to test\n",
        "bottleneck_dims = [50, 100, 150, 200, 250, 300, 350, 400]\n",
        "test_accuracies = []\n",
        "autoencoder_histories = []\n",
        "classifier_histories = []\n",
        "\n",
        "# Input dimension\n",
        "input_dim = max_frames * n_mfcc\n",
        "\n",
        "# Loop over bottleneck dimensions\n",
        "for encoding_dim in bottleneck_dims:\n",
        "    print(f\"\\nTesting bottleneck dimension: {encoding_dim}\")\n",
        "\n",
        "    # Create and train the autoencoder\n",
        "    autoencoder_1, encoder_1 = create_autoencoder_1(input_dim, encoding_dim)\n",
        "    history_AE1 = autoencoder_1.fit(\n",
        "        train_flattened, train_flattened,\n",
        "        validation_data=(val_flattened, val_flattened),\n",
        "        epochs=100,\n",
        "        batch_size=32,\n",
        "        callbacks=[EarlyStopping(monitor='val_loss', patience=15, restore_best_weights=True)],\n",
        "        verbose=0\n",
        "    )\n",
        "\n",
        "    # Save the autoencoder and encoder models\n",
        "    autoencoder_1.save(f'autoencoder_dim_{encoding_dim}.keras')\n",
        "    encoder_1.save(f'encoder_dim_{encoding_dim}.keras')\n",
        "\n",
        "    # Store the autoencoder history\n",
        "    autoencoder_histories.append(history_AE1.history)\n",
        "\n",
        "    # Generate encoded representations\n",
        "    train_encoded_1 = encoder_1.predict(train_flattened, verbose=0)\n",
        "    val_encoded_1 = encoder_1.predict(val_flattened, verbose=0)\n",
        "    test_encoded_1 = encoder_1.predict(test_flattened, verbose=0)\n",
        "\n",
        "    # Create and train the MLP classifier\n",
        "    mlp_model_1 = create_mlp_classifier(input_dim=encoding_dim)\n",
        "    history_1 = mlp_model_1.fit(\n",
        "        train_encoded_1, train_labels,\n",
        "        validation_data=(val_encoded_1, val_labels),\n",
        "        epochs=100,\n",
        "        batch_size=32,\n",
        "        callbacks=[EarlyStopping(monitor='val_loss', patience=10, restore_best_weights=True)],\n",
        "        verbose=0\n",
        "    )\n",
        "\n",
        "    # Save the MLP classifier model\n",
        "    mlp_model_1.save(f'mlp_classifier_dim_{encoding_dim}.keras')\n",
        "\n",
        "    # Store the classifier history\n",
        "    classifier_histories.append(history_1.history)\n",
        "\n",
        "    # Evaluate on test set\n",
        "    test_loss_1, test_accuracy_1 = mlp_model_1.evaluate(test_encoded_1, test_labels, verbose=0)\n",
        "    print(f\"Approach 1 Test Accuracy for {encoding_dim}D: {test_accuracy_1:.4f}\")\n",
        "    print(f\"Approach 1 Test Loss for {encoding_dim}D: {test_loss_1:.4f}\")\n",
        "\n",
        "    # Store the accuracy\n",
        "    test_accuracies.append(test_accuracy_1)\n"
      ]
    },
    {
      "cell_type": "code",
      "source": [
        "# Plot the test accuracies vs. bottleneck dimensions\n",
        "plt.figure(figsize=(8, 6))\n",
        "plt.plot(bottleneck_dims, test_accuracies, 'b-o', label='Test Accuracy')\n",
        "plt.axhline(y=0.93, color='r', linestyle='--', label='Baseline Accuracy (0.93)')\n",
        "plt.title('Approach 1 Test Accuracy vs. Bottleneck Dimension')\n",
        "plt.xlabel('Bottleneck Dimension')\n",
        "plt.ylabel('Test Accuracy')\n",
        "plt.xticks(bottleneck_dims)\n",
        "plt.legend()\n",
        "plt.grid(True)\n",
        "plt.savefig('approach1_accuracy_vs_bottleneck.png')\n",
        "plt.show()\n",
        "\n",
        "# Print summary\n",
        "print(\"\\nSummary of Test Accuracies:\")\n",
        "for dim, acc in zip(bottleneck_dims, test_accuracies):\n",
        "    print(f\"Bottleneck {dim}D: {acc:.4f}\")"
      ],
      "metadata": {
        "colab": {
          "base_uri": "https://localhost:8080/",
          "height": 738
        },
        "id": "fsxZk3pMwZR6",
        "outputId": "19f964d5-e9fb-4d14-e441-1087fac684c7"
      },
      "execution_count": null,
      "outputs": [
        {
          "output_type": "display_data",
          "data": {
            "text/plain": [
              "<Figure size 800x600 with 1 Axes>"
            ],
            "image/png": "[encoded data removed]"
          },
          "metadata": {}
        },
        {
          "output_type": "stream",
          "name": "stdout",
          "text": [
            "\n",
            "Summary of Test Accuracies:\n",
            "Bottleneck 50D: 0.7378\n",
            "Bottleneck 100D: 0.8244\n",
            "Bottleneck 150D: 0.8711\n",
            "Bottleneck 200D: 0.8933\n",
            "Bottleneck 250D: 0.8756\n",
            "Bottleneck 300D: 0.9022\n",
            "Bottleneck 350D: 0.9200\n",
            "Bottleneck 400D: 0.9089\n"
          ]
        }
      ]
    },
    {
      "cell_type": "markdown",
      "source": [
        "Justification for Choosing a 350D Bottleneck Size in Approach 1\n",
        "For Approach 1, I concatenated padded MFCC vectors (3900D) and used an autoencoder to compress them into a single vector, classified by the same MLP as the Baseline (accuracy 0.93). To select the bottleneck size, I tested dimensions from 50D to 400D. Based on the results, I chose 350D, which achieved a test accuracy of 0.9200.\n",
        "\n",
        "Why 350D?\n",
        "\n",
        "Highest Accuracy: At 0.9200, 350D outperforms all other sizes and is only 0.01 below the Baseline’s 0.93, maximizing classification performance.\n",
        "Effective Compression: It reduces the 3900D input to ~9.0% of its size, balancing information retention and efficiency.\n",
        "Robustness: Strong accuracies at 300D (0.9022) and 400D (0.9089) confirm the stability of this range, but 350D’s peak makes it optimal.\n",
        "Better Than Alternatives: Compared to 400D (0.9089), 350D achieves higher accuracy with fewer dimensions, avoiding potential overfitting.\n",
        "\n",
        "Conclusion\n",
        "I selected 350D for Approach 1 because it delivers the highest test accuracy (0.9200) while compressing the 3900D input significantly. Empirical testing across 50D to 400D confirms 350D as the best choice, aligning with the assignment’s goal of generating an effective single-vector representation.\n"
      ],
      "metadata": {
        "id": "LB0rub48xIbS"
      }
    },
    {
      "cell_type": "code",
      "source": [
        "import matplotlib.pyplot as plt\n",
        "\n",
        "train_loss = classifier_histories[6]['loss']\n",
        "val_loss = classifier_histories[6]['val_loss']\n",
        "train_accuracy = classifier_histories[6]['accuracy']\n",
        "val_accuracy = classifier_histories[6]['val_accuracy']\n",
        "epochs = range(1, len(train_loss) + 1)\n",
        "\n",
        "# Create a figure with two subplots\n",
        "fig, (ax1, ax2) = plt.subplots(1, 2, figsize=(12, 5))\n",
        "\n",
        "# Plot accuracy\n",
        "ax1.plot(epochs, train_accuracy, 'b-', label='Training Accuracy')\n",
        "ax1.plot(epochs, val_accuracy, 'r-', label='Validation Accuracy')\n",
        "ax1.set_title('Training and Validation Accuracy')\n",
        "ax1.set_xlabel('Epochs')\n",
        "ax1.set_ylabel('Accuracy')\n",
        "ax1.legend()\n",
        "ax1.grid(True)\n",
        "\n",
        "# Plot loss\n",
        "ax2.plot(epochs, train_loss, 'b-', label='Training Loss')\n",
        "ax2.plot(epochs, val_loss, 'r-', label='Validation Loss')\n",
        "ax2.set_title('Training and Validation Loss')\n",
        "ax2.set_xlabel('Epochs')\n",
        "ax2.set_ylabel('Loss')\n",
        "ax2.legend()\n",
        "ax2.grid(True)\n",
        "\n",
        "# Adjust layout to prevent overlap\n",
        "plt.tight_layout()\n",
        "\n",
        "# Save the plot to a file\n",
        "plt.savefig('training_progress_baseline.png')\n",
        "\n",
        "# Display the plot\n",
        "plt.show()\n",
        "\n",
        "dim = bottleneck_dims[6]\n",
        "acc = test_accuracies[6]\n",
        "print(f\"Bottleneck {dim}D: {acc:.4f}\")"
      ],
      "metadata": {
        "colab": {
          "base_uri": "https://localhost:8080/",
          "height": 419
        },
        "id": "Zy2mP3AD1WTZ",
        "outputId": "37de0a5b-a6f1-4256-9aad-14a2f2b224fe"
      },
      "execution_count": null,
      "outputs": [
        {
          "output_type": "display_data",
          "data": {
            "text/plain": [
              "<Figure size 1200x500 with 2 Axes>"
            ],
            "image/png": "[encoded data removed]"
          },
          "metadata": {}
        },
        {
          "output_type": "stream",
          "name": "stdout",
          "text": [
            "Bottleneck 350D: 0.9200\n"
          ]
        }
      ]
    },
    {
      "cell_type": "markdown",
      "source": [
        "## Approach 2"
      ],
      "metadata": {
        "id": "do0s1vRQ5-wU"
      }
    },
    {
      "cell_type": "code",
      "source": [
        "def get_predictive_triplets(mfccs, set_name=\"\"):\n",
        "    pairs = []\n",
        "    targets = []\n",
        "    for mfcc in mfccs:\n",
        "        for i in range(len(mfcc) - 2):\n",
        "            pair = np.concatenate([mfcc[i], mfcc[i + 1]])\n",
        "            target = mfcc[i + 2]\n",
        "            pairs.append(pair)\n",
        "            targets.append(target)\n",
        "    return np.array(pairs, dtype=np.float32), np.array(targets, dtype=np.float32)\n",
        "\n",
        "\n",
        "# Prepare pairs\n",
        "print(\"Preparing training pairs...\")\n",
        "train_pairs, train_targets = get_predictive_triplets(train_mfccs_norm, \"train\")\n",
        "print(\"Preparing validation pairs...\")\n",
        "val_pairs, val_targets = get_predictive_triplets(val_mfccs_norm, \"val\")\n",
        "print(\"Train pairs shape:\", train_pairs.shape)  # Expected: (123520, 26)\n",
        "print(\"Train targets shape:\", train_targets.shape)  # Expected: (123520, 13)\n",
        "print(\"Validation pairs shape:\", val_pairs.shape)  # Expected: (26823, 26)\n",
        "print(\"Validation targets shape:\", val_targets.shape)"
      ],
      "metadata": {
        "colab": {
          "base_uri": "https://localhost:8080/"
        },
        "id": "kku6kvJw4tzZ",
        "outputId": "f3ecc296-0c7b-4be2-a5c0-2606f542d926"
      },
      "execution_count": 34,
      "outputs": [
        {
          "output_type": "stream",
          "name": "stdout",
          "text": [
            "Preparing training pairs...\n",
            "Preparing validation pairs...\n",
            "Train pairs shape: (119320, 26)\n",
            "Train targets shape: (119320, 13)\n",
            "Validation pairs shape: (25923, 26)\n",
            "Validation targets shape: (25923, 13)\n"
          ]
        }
      ]
    },
    {
      "cell_type": "code",
      "source": [
        "import numpy as np\n",
        "import tensorflow as tf\n",
        "from tensorflow.keras.models import Sequential\n",
        "from tensorflow.keras.layers import Dense, Input\n",
        "from tensorflow.keras.regularizers import l2\n",
        "from tensorflow.keras.callbacks import EarlyStopping\n",
        "from tensorflow.keras.layers import BatchNormalization\n",
        "\n",
        "from tensorflow.keras.optimizers import Adam\n",
        "\n",
        "# ------------------------------------------------------------------------------\n",
        "# 1) DATA PREP: create (frame_t, frame_{t+1}) → frame_{t+2} triplets\n",
        "# ------------------------------------------------------------------------------\n",
        "def get_predictive_triplets(mfccs, set_name=\"\"):\n",
        "    \"\"\"\n",
        "    Input:\n",
        "      - mfccs: list of arrays, each shape (n_frames, n_mfcc)\n",
        "    Output:\n",
        "      - X: array shape (total_pairs, 2*n_mfcc)\n",
        "      - y: array shape (total_pairs,   n_mfcc)\n",
        "    \"\"\"\n",
        "    pairs = []\n",
        "    targets = []\n",
        "\n",
        "    for utt_idx, utt in enumerate(mfccs):\n",
        "        n_frames = utt.shape[0]\n",
        "        # For each triple in the utterance\n",
        "        for i in range(n_frames - 2):\n",
        "            f_t   = utt[i]\n",
        "            f_tp1 = utt[i + 1]\n",
        "            f_tp2 = utt[i + 2]\n",
        "            pairs.append( np.concatenate([f_t, f_tp1]) )\n",
        "            targets.append(f_tp2)\n",
        "\n",
        "    print(f\"{set_name}: generated {len(pairs)} predictive triplets\")\n",
        "    X = np.array(pairs, dtype=np.float32)\n",
        "    y = np.array(targets, dtype=np.float32)\n",
        "    return X, y\n",
        "\n",
        "# ------------------------------------------------------------------------------\n",
        "# 2) HYPERPARAMETERS & DATA LOADING\n",
        "# ------------------------------------------------------------------------------\n",
        "n_mfcc = 13                # your feature dimension per frame\n",
        "input_dim  = n_mfcc * 2    # we concatenate two frames\n",
        "encoding_dim = 10          # bottleneck size\n",
        "output_dim = n_mfcc        # predict one frame\n",
        "\n",
        "# Assume these are already loaded & normalized lists of numpy arrays:\n",
        "#   train_mfccs_norm, val_mfccs_norm\n",
        "# each element is shape (n_frames, n_mfcc)\n",
        "\n",
        "# Create train/val sets\n",
        "X_train, y_train = get_predictive_triplets(train_mfccs_norm, set_name=\"TRAIN\")\n",
        "X_val,   y_val   = get_predictive_triplets(val_mfccs_norm,   set_name=\"VALID\")\n",
        "\n",
        "print(\"X_train:\", X_train.shape, \"y_train:\", y_train.shape)\n",
        "print(\"X_val:  \",   X_val.shape,   \"y_val:  \",   y_val.shape)\n",
        "\n",
        "# ------------------------------------------------------------------------------\n",
        "# 3) MODEL DEFINITION\n",
        "# ------------------------------------------------------------------------------\n",
        "import numpy as np\n",
        "import tensorflow as tf\n",
        "from tensorflow.keras.models import Sequential\n",
        "from tensorflow.keras.layers import Dense, Input, LeakyReLU, BatchNormalization, Dropout\n",
        "from tensorflow.keras.optimizers import Adam\n",
        "from tensorflow.keras.losses import Huber\n",
        "from tensorflow.keras.callbacks import EarlyStopping, ReduceLROnPlateau\n",
        "\n",
        "def create_stable_predictor(input_dim, encoding_dim, output_dim):\n",
        "    model = Sequential([\n",
        "        Input(shape=(input_dim,)),\n",
        "\n",
        "        Dense(256), LeakyReLU(), BatchNormalization(), Dropout(0.1),\n",
        "        Dense(128), LeakyReLU(), BatchNormalization(), Dropout(0.1),\n",
        "\n",
        "        Dense(encoding_dim * 2), LeakyReLU(), BatchNormalization(),\n",
        "        Dense(encoding_dim, name='bottleneck'), LeakyReLU(), BatchNormalization(),\n",
        "\n",
        "        Dense(128), LeakyReLU(), BatchNormalization(),\n",
        "        Dense(256), LeakyReLU(), BatchNormalization(),\n",
        "\n",
        "        Dense(output_dim, activation='linear'),\n",
        "    ], name=\"stable_predictive_autoencoder\")\n",
        "\n",
        "    optimizer = Adam(learning_rate=3e-3, clipnorm=1.0)\n",
        "    # Huber loss is less sensitive to large errors than MSE\n",
        "    model.compile(optimizer=optimizer, loss=Huber(delta=1.0))\n",
        "    return model\n",
        "\n",
        "# Instantiate\n",
        "model = create_stable_predictor(input_dim=26, encoding_dim=15, output_dim=13)\n",
        "model.summary()\n",
        "\n",
        "# Callbacks\n",
        "es  = EarlyStopping(monitor='val_loss', patience=10, restore_best_weights=True, verbose=1)\n",
        "rlr = ReduceLROnPlateau(monitor='val_loss', factor=0.5, patience=4, verbose=1)\n",
        "\n",
        "# Train\n",
        "history = model.fit(\n",
        "    X_train, y_train,\n",
        "    validation_data=(X_val, y_val),\n",
        "    epochs=200,\n",
        "    batch_size=64,\n",
        "    callbacks=[es, rlr],\n",
        "    verbose=2\n",
        ")\n",
        "\n",
        "model.save('stable_predictive_autoencoder.keras')\n",
        "print(\"Saved stable model.\")\n"
      ],
      "metadata": {
        "colab": {
          "base_uri": "https://localhost:8080/",
          "height": 1000
        },
        "id": "d6WttT3jJszr",
        "outputId": "fb0a399b-2686-4fc4-fae1-b530b9146def"
      },
      "execution_count": 54,
      "outputs": [
        {
          "output_type": "stream",
          "name": "stdout",
          "text": [
            "TRAIN: generated 119320 predictive triplets\n",
            "VALID: generated 25923 predictive triplets\n",
            "X_train: (119320, 26) y_train: (119320, 13)\n",
            "X_val:   (25923, 26) y_val:   (25923, 13)\n"
          ]
        },
        {
          "output_type": "display_data",
          "data": {
            "text/plain": [
              "\u001b[1mModel: \"stable_predictive_autoencoder\"\u001b[0m\n"
            ],
            "text/html": [
              "<pre style=\"white-space:pre;overflow-x:auto;line-height:normal;font-family:Menlo,'DejaVu Sans Mono',consolas,'Courier New',monospace\"><span style=\"font-weight: bold\">Model: \"stable_predictive_autoencoder\"</span>\n",
              "</pre>\n"
            ]
          },
          "metadata": {}
        },
        {
          "output_type": "display_data",
          "data": {
            "text/plain": [
              "┏━━━━━━━━━━━━━━━━━━━━━━━━━━━━━━━━━┳━━━━━━━━━━━━━━━━━━━━━━━━┳━━━━━━━━━━━━━━━┓\n",
              "┃\u001b[1m \u001b[0m\u001b[1mLayer (type)                   \u001b[0m\u001b[1m \u001b[0m┃\u001b[1m \u001b[0m\u001b[1mOutput Shape          \u001b[0m\u001b[1m \u001b[0m┃\u001b[1m \u001b[0m\u001b[1m      Param #\u001b[0m\u001b[1m \u001b[0m┃\n",
              "┡━━━━━━━━━━━━━━━━━━━━━━━━━━━━━━━━━╇━━━━━━━━━━━━━━━━━━━━━━━━╇━━━━━━━━━━━━━━━┩\n",
              "│ dense_57 (\u001b[38;5;33mDense\u001b[0m)                │ (\u001b[38;5;45mNone\u001b[0m, \u001b[38;5;34m256\u001b[0m)            │         \u001b[38;5;34m6,912\u001b[0m │\n",
              "├─────────────────────────────────┼────────────────────────┼───────────────┤\n",
              "│ leaky_re_lu_6 (\u001b[38;5;33mLeakyReLU\u001b[0m)       │ (\u001b[38;5;45mNone\u001b[0m, \u001b[38;5;34m256\u001b[0m)            │             \u001b[38;5;34m0\u001b[0m │\n",
              "├─────────────────────────────────┼────────────────────────┼───────────────┤\n",
              "│ batch_normalization             │ (\u001b[38;5;45mNone\u001b[0m, \u001b[38;5;34m256\u001b[0m)            │         \u001b[38;5;34m1,024\u001b[0m │\n",
              "│ (\u001b[38;5;33mBatchNormalization\u001b[0m)            │                        │               │\n",
              "├─────────────────────────────────┼────────────────────────┼───────────────┤\n",
              "│ dropout_16 (\u001b[38;5;33mDropout\u001b[0m)            │ (\u001b[38;5;45mNone\u001b[0m, \u001b[38;5;34m256\u001b[0m)            │             \u001b[38;5;34m0\u001b[0m │\n",
              "├─────────────────────────────────┼────────────────────────┼───────────────┤\n",
              "│ dense_58 (\u001b[38;5;33mDense\u001b[0m)                │ (\u001b[38;5;45mNone\u001b[0m, \u001b[38;5;34m128\u001b[0m)            │        \u001b[38;5;34m32,896\u001b[0m │\n",
              "├─────────────────────────────────┼────────────────────────┼───────────────┤\n",
              "│ leaky_re_lu_7 (\u001b[38;5;33mLeakyReLU\u001b[0m)       │ (\u001b[38;5;45mNone\u001b[0m, \u001b[38;5;34m128\u001b[0m)            │             \u001b[38;5;34m0\u001b[0m │\n",
              "├─────────────────────────────────┼────────────────────────┼───────────────┤\n",
              "│ batch_normalization_1           │ (\u001b[38;5;45mNone\u001b[0m, \u001b[38;5;34m128\u001b[0m)            │           \u001b[38;5;34m512\u001b[0m │\n",
              "│ (\u001b[38;5;33mBatchNormalization\u001b[0m)            │                        │               │\n",
              "├─────────────────────────────────┼────────────────────────┼───────────────┤\n",
              "│ dropout_17 (\u001b[38;5;33mDropout\u001b[0m)            │ (\u001b[38;5;45mNone\u001b[0m, \u001b[38;5;34m128\u001b[0m)            │             \u001b[38;5;34m0\u001b[0m │\n",
              "├─────────────────────────────────┼────────────────────────┼───────────────┤\n",
              "│ dense_59 (\u001b[38;5;33mDense\u001b[0m)                │ (\u001b[38;5;45mNone\u001b[0m, \u001b[38;5;34m30\u001b[0m)             │         \u001b[38;5;34m3,870\u001b[0m │\n",
              "├─────────────────────────────────┼────────────────────────┼───────────────┤\n",
              "│ leaky_re_lu_8 (\u001b[38;5;33mLeakyReLU\u001b[0m)       │ (\u001b[38;5;45mNone\u001b[0m, \u001b[38;5;34m30\u001b[0m)             │             \u001b[38;5;34m0\u001b[0m │\n",
              "├─────────────────────────────────┼────────────────────────┼───────────────┤\n",
              "│ batch_normalization_2           │ (\u001b[38;5;45mNone\u001b[0m, \u001b[38;5;34m30\u001b[0m)             │           \u001b[38;5;34m120\u001b[0m │\n",
              "│ (\u001b[38;5;33mBatchNormalization\u001b[0m)            │                        │               │\n",
              "├─────────────────────────────────┼────────────────────────┼───────────────┤\n",
              "│ bottleneck (\u001b[38;5;33mDense\u001b[0m)              │ (\u001b[38;5;45mNone\u001b[0m, \u001b[38;5;34m15\u001b[0m)             │           \u001b[38;5;34m465\u001b[0m │\n",
              "├─────────────────────────────────┼────────────────────────┼───────────────┤\n",
              "│ leaky_re_lu_9 (\u001b[38;5;33mLeakyReLU\u001b[0m)       │ (\u001b[38;5;45mNone\u001b[0m, \u001b[38;5;34m15\u001b[0m)             │             \u001b[38;5;34m0\u001b[0m │\n",
              "├─────────────────────────────────┼────────────────────────┼───────────────┤\n",
              "│ batch_normalization_3           │ (\u001b[38;5;45mNone\u001b[0m, \u001b[38;5;34m15\u001b[0m)             │            \u001b[38;5;34m60\u001b[0m │\n",
              "│ (\u001b[38;5;33mBatchNormalization\u001b[0m)            │                        │               │\n",
              "├─────────────────────────────────┼────────────────────────┼───────────────┤\n",
              "│ dense_60 (\u001b[38;5;33mDense\u001b[0m)                │ (\u001b[38;5;45mNone\u001b[0m, \u001b[38;5;34m128\u001b[0m)            │         \u001b[38;5;34m2,048\u001b[0m │\n",
              "├─────────────────────────────────┼────────────────────────┼───────────────┤\n",
              "│ leaky_re_lu_10 (\u001b[38;5;33mLeakyReLU\u001b[0m)      │ (\u001b[38;5;45mNone\u001b[0m, \u001b[38;5;34m128\u001b[0m)            │             \u001b[38;5;34m0\u001b[0m │\n",
              "├─────────────────────────────────┼────────────────────────┼───────────────┤\n",
              "│ batch_normalization_4           │ (\u001b[38;5;45mNone\u001b[0m, \u001b[38;5;34m128\u001b[0m)            │           \u001b[38;5;34m512\u001b[0m │\n",
              "│ (\u001b[38;5;33mBatchNormalization\u001b[0m)            │                        │               │\n",
              "├─────────────────────────────────┼────────────────────────┼───────────────┤\n",
              "│ dense_61 (\u001b[38;5;33mDense\u001b[0m)                │ (\u001b[38;5;45mNone\u001b[0m, \u001b[38;5;34m256\u001b[0m)            │        \u001b[38;5;34m33,024\u001b[0m │\n",
              "├─────────────────────────────────┼────────────────────────┼───────────────┤\n",
              "│ leaky_re_lu_11 (\u001b[38;5;33mLeakyReLU\u001b[0m)      │ (\u001b[38;5;45mNone\u001b[0m, \u001b[38;5;34m256\u001b[0m)            │             \u001b[38;5;34m0\u001b[0m │\n",
              "├─────────────────────────────────┼────────────────────────┼───────────────┤\n",
              "│ batch_normalization_5           │ (\u001b[38;5;45mNone\u001b[0m, \u001b[38;5;34m256\u001b[0m)            │         \u001b[38;5;34m1,024\u001b[0m │\n",
              "│ (\u001b[38;5;33mBatchNormalization\u001b[0m)            │                        │               │\n",
              "├─────────────────────────────────┼────────────────────────┼───────────────┤\n",
              "│ dense_62 (\u001b[38;5;33mDense\u001b[0m)                │ (\u001b[38;5;45mNone\u001b[0m, \u001b[38;5;34m13\u001b[0m)             │         \u001b[38;5;34m3,341\u001b[0m │\n",
              "└─────────────────────────────────┴────────────────────────┴───────────────┘\n"
            ],
            "text/html": [
              "<pre style=\"white-space:pre;overflow-x:auto;line-height:normal;font-family:Menlo,'DejaVu Sans Mono',consolas,'Courier New',monospace\">┏━━━━━━━━━━━━━━━━━━━━━━━━━━━━━━━━━┳━━━━━━━━━━━━━━━━━━━━━━━━┳━━━━━━━━━━━━━━━┓\n",
              "┃<span style=\"font-weight: bold\"> Layer (type)                    </span>┃<span style=\"font-weight: bold\"> Output Shape           </span>┃<span style=\"font-weight: bold\">       Param # </span>┃\n",
              "┡━━━━━━━━━━━━━━━━━━━━━━━━━━━━━━━━━╇━━━━━━━━━━━━━━━━━━━━━━━━╇━━━━━━━━━━━━━━━┩\n",
              "│ dense_57 (<span style=\"color: #0087ff; text-decoration-color: #0087ff\">Dense</span>)                │ (<span style=\"color: #00d7ff; text-decoration-color: #00d7ff\">None</span>, <span style=\"color: #00af00; text-decoration-color: #00af00\">256</span>)            │         <span style=\"color: #00af00; text-decoration-color: #00af00\">6,912</span> │\n",
              "├─────────────────────────────────┼────────────────────────┼───────────────┤\n",
              "│ leaky_re_lu_6 (<span style=\"color: #0087ff; text-decoration-color: #0087ff\">LeakyReLU</span>)       │ (<span style=\"color: #00d7ff; text-decoration-color: #00d7ff\">None</span>, <span style=\"color: #00af00; text-decoration-color: #00af00\">256</span>)            │             <span style=\"color: #00af00; text-decoration-color: #00af00\">0</span> │\n",
              "├─────────────────────────────────┼────────────────────────┼───────────────┤\n",
              "│ batch_normalization             │ (<span style=\"color: #00d7ff; text-decoration-color: #00d7ff\">None</span>, <span style=\"color: #00af00; text-decoration-color: #00af00\">256</span>)            │         <span style=\"color: #00af00; text-decoration-color: #00af00\">1,024</span> │\n",
              "│ (<span style=\"color: #0087ff; text-decoration-color: #0087ff\">BatchNormalization</span>)            │                        │               │\n",
              "├─────────────────────────────────┼────────────────────────┼───────────────┤\n",
              "│ dropout_16 (<span style=\"color: #0087ff; text-decoration-color: #0087ff\">Dropout</span>)            │ (<span style=\"color: #00d7ff; text-decoration-color: #00d7ff\">None</span>, <span style=\"color: #00af00; text-decoration-color: #00af00\">256</span>)            │             <span style=\"color: #00af00; text-decoration-color: #00af00\">0</span> │\n",
              "├─────────────────────────────────┼────────────────────────┼───────────────┤\n",
              "│ dense_58 (<span style=\"color: #0087ff; text-decoration-color: #0087ff\">Dense</span>)                │ (<span style=\"color: #00d7ff; text-decoration-color: #00d7ff\">None</span>, <span style=\"color: #00af00; text-decoration-color: #00af00\">128</span>)            │        <span style=\"color: #00af00; text-decoration-color: #00af00\">32,896</span> │\n",
              "├─────────────────────────────────┼────────────────────────┼───────────────┤\n",
              "│ leaky_re_lu_7 (<span style=\"color: #0087ff; text-decoration-color: #0087ff\">LeakyReLU</span>)       │ (<span style=\"color: #00d7ff; text-decoration-color: #00d7ff\">None</span>, <span style=\"color: #00af00; text-decoration-color: #00af00\">128</span>)            │             <span style=\"color: #00af00; text-decoration-color: #00af00\">0</span> │\n",
              "├─────────────────────────────────┼────────────────────────┼───────────────┤\n",
              "│ batch_normalization_1           │ (<span style=\"color: #00d7ff; text-decoration-color: #00d7ff\">None</span>, <span style=\"color: #00af00; text-decoration-color: #00af00\">128</span>)            │           <span style=\"color: #00af00; text-decoration-color: #00af00\">512</span> │\n",
              "│ (<span style=\"color: #0087ff; text-decoration-color: #0087ff\">BatchNormalization</span>)            │                        │               │\n",
              "├─────────────────────────────────┼────────────────────────┼───────────────┤\n",
              "│ dropout_17 (<span style=\"color: #0087ff; text-decoration-color: #0087ff\">Dropout</span>)            │ (<span style=\"color: #00d7ff; text-decoration-color: #00d7ff\">None</span>, <span style=\"color: #00af00; text-decoration-color: #00af00\">128</span>)            │             <span style=\"color: #00af00; text-decoration-color: #00af00\">0</span> │\n",
              "├─────────────────────────────────┼────────────────────────┼───────────────┤\n",
              "│ dense_59 (<span style=\"color: #0087ff; text-decoration-color: #0087ff\">Dense</span>)                │ (<span style=\"color: #00d7ff; text-decoration-color: #00d7ff\">None</span>, <span style=\"color: #00af00; text-decoration-color: #00af00\">30</span>)             │         <span style=\"color: #00af00; text-decoration-color: #00af00\">3,870</span> │\n",
              "├─────────────────────────────────┼────────────────────────┼───────────────┤\n",
              "│ leaky_re_lu_8 (<span style=\"color: #0087ff; text-decoration-color: #0087ff\">LeakyReLU</span>)       │ (<span style=\"color: #00d7ff; text-decoration-color: #00d7ff\">None</span>, <span style=\"color: #00af00; text-decoration-color: #00af00\">30</span>)             │             <span style=\"color: #00af00; text-decoration-color: #00af00\">0</span> │\n",
              "├─────────────────────────────────┼────────────────────────┼───────────────┤\n",
              "│ batch_normalization_2           │ (<span style=\"color: #00d7ff; text-decoration-color: #00d7ff\">None</span>, <span style=\"color: #00af00; text-decoration-color: #00af00\">30</span>)             │           <span style=\"color: #00af00; text-decoration-color: #00af00\">120</span> │\n",
              "│ (<span style=\"color: #0087ff; text-decoration-color: #0087ff\">BatchNormalization</span>)            │                        │               │\n",
              "├─────────────────────────────────┼────────────────────────┼───────────────┤\n",
              "│ bottleneck (<span style=\"color: #0087ff; text-decoration-color: #0087ff\">Dense</span>)              │ (<span style=\"color: #00d7ff; text-decoration-color: #00d7ff\">None</span>, <span style=\"color: #00af00; text-decoration-color: #00af00\">15</span>)             │           <span style=\"color: #00af00; text-decoration-color: #00af00\">465</span> │\n",
              "├─────────────────────────────────┼────────────────────────┼───────────────┤\n",
              "│ leaky_re_lu_9 (<span style=\"color: #0087ff; text-decoration-color: #0087ff\">LeakyReLU</span>)       │ (<span style=\"color: #00d7ff; text-decoration-color: #00d7ff\">None</span>, <span style=\"color: #00af00; text-decoration-color: #00af00\">15</span>)             │             <span style=\"color: #00af00; text-decoration-color: #00af00\">0</span> │\n",
              "├─────────────────────────────────┼────────────────────────┼───────────────┤\n",
              "│ batch_normalization_3           │ (<span style=\"color: #00d7ff; text-decoration-color: #00d7ff\">None</span>, <span style=\"color: #00af00; text-decoration-color: #00af00\">15</span>)             │            <span style=\"color: #00af00; text-decoration-color: #00af00\">60</span> │\n",
              "│ (<span style=\"color: #0087ff; text-decoration-color: #0087ff\">BatchNormalization</span>)            │                        │               │\n",
              "├─────────────────────────────────┼────────────────────────┼───────────────┤\n",
              "│ dense_60 (<span style=\"color: #0087ff; text-decoration-color: #0087ff\">Dense</span>)                │ (<span style=\"color: #00d7ff; text-decoration-color: #00d7ff\">None</span>, <span style=\"color: #00af00; text-decoration-color: #00af00\">128</span>)            │         <span style=\"color: #00af00; text-decoration-color: #00af00\">2,048</span> │\n",
              "├─────────────────────────────────┼────────────────────────┼───────────────┤\n",
              "│ leaky_re_lu_10 (<span style=\"color: #0087ff; text-decoration-color: #0087ff\">LeakyReLU</span>)      │ (<span style=\"color: #00d7ff; text-decoration-color: #00d7ff\">None</span>, <span style=\"color: #00af00; text-decoration-color: #00af00\">128</span>)            │             <span style=\"color: #00af00; text-decoration-color: #00af00\">0</span> │\n",
              "├─────────────────────────────────┼────────────────────────┼───────────────┤\n",
              "│ batch_normalization_4           │ (<span style=\"color: #00d7ff; text-decoration-color: #00d7ff\">None</span>, <span style=\"color: #00af00; text-decoration-color: #00af00\">128</span>)            │           <span style=\"color: #00af00; text-decoration-color: #00af00\">512</span> │\n",
              "│ (<span style=\"color: #0087ff; text-decoration-color: #0087ff\">BatchNormalization</span>)            │                        │               │\n",
              "├─────────────────────────────────┼────────────────────────┼───────────────┤\n",
              "│ dense_61 (<span style=\"color: #0087ff; text-decoration-color: #0087ff\">Dense</span>)                │ (<span style=\"color: #00d7ff; text-decoration-color: #00d7ff\">None</span>, <span style=\"color: #00af00; text-decoration-color: #00af00\">256</span>)            │        <span style=\"color: #00af00; text-decoration-color: #00af00\">33,024</span> │\n",
              "├─────────────────────────────────┼────────────────────────┼───────────────┤\n",
              "│ leaky_re_lu_11 (<span style=\"color: #0087ff; text-decoration-color: #0087ff\">LeakyReLU</span>)      │ (<span style=\"color: #00d7ff; text-decoration-color: #00d7ff\">None</span>, <span style=\"color: #00af00; text-decoration-color: #00af00\">256</span>)            │             <span style=\"color: #00af00; text-decoration-color: #00af00\">0</span> │\n",
              "├─────────────────────────────────┼────────────────────────┼───────────────┤\n",
              "│ batch_normalization_5           │ (<span style=\"color: #00d7ff; text-decoration-color: #00d7ff\">None</span>, <span style=\"color: #00af00; text-decoration-color: #00af00\">256</span>)            │         <span style=\"color: #00af00; text-decoration-color: #00af00\">1,024</span> │\n",
              "│ (<span style=\"color: #0087ff; text-decoration-color: #0087ff\">BatchNormalization</span>)            │                        │               │\n",
              "├─────────────────────────────────┼────────────────────────┼───────────────┤\n",
              "│ dense_62 (<span style=\"color: #0087ff; text-decoration-color: #0087ff\">Dense</span>)                │ (<span style=\"color: #00d7ff; text-decoration-color: #00d7ff\">None</span>, <span style=\"color: #00af00; text-decoration-color: #00af00\">13</span>)             │         <span style=\"color: #00af00; text-decoration-color: #00af00\">3,341</span> │\n",
              "└─────────────────────────────────┴────────────────────────┴───────────────┘\n",
              "</pre>\n"
            ]
          },
          "metadata": {}
        },
        {
          "output_type": "display_data",
          "data": {
            "text/plain": [
              "\u001b[1m Total params: \u001b[0m\u001b[38;5;34m85,808\u001b[0m (335.19 KB)\n"
            ],
            "text/html": [
              "<pre style=\"white-space:pre;overflow-x:auto;line-height:normal;font-family:Menlo,'DejaVu Sans Mono',consolas,'Courier New',monospace\"><span style=\"font-weight: bold\"> Total params: </span><span style=\"color: #00af00; text-decoration-color: #00af00\">85,808</span> (335.19 KB)\n",
              "</pre>\n"
            ]
          },
          "metadata": {}
        },
        {
          "output_type": "display_data",
          "data": {
            "text/plain": [
              "\u001b[1m Trainable params: \u001b[0m\u001b[38;5;34m84,182\u001b[0m (328.84 KB)\n"
            ],
            "text/html": [
              "<pre style=\"white-space:pre;overflow-x:auto;line-height:normal;font-family:Menlo,'DejaVu Sans Mono',consolas,'Courier New',monospace\"><span style=\"font-weight: bold\"> Trainable params: </span><span style=\"color: #00af00; text-decoration-color: #00af00\">84,182</span> (328.84 KB)\n",
              "</pre>\n"
            ]
          },
          "metadata": {}
        },
        {
          "output_type": "display_data",
          "data": {
            "text/plain": [
              "\u001b[1m Non-trainable params: \u001b[0m\u001b[38;5;34m1,626\u001b[0m (6.35 KB)\n"
            ],
            "text/html": [
              "<pre style=\"white-space:pre;overflow-x:auto;line-height:normal;font-family:Menlo,'DejaVu Sans Mono',consolas,'Courier New',monospace\"><span style=\"font-weight: bold\"> Non-trainable params: </span><span style=\"color: #00af00; text-decoration-color: #00af00\">1,626</span> (6.35 KB)\n",
              "</pre>\n"
            ]
          },
          "metadata": {}
        },
        {
          "output_type": "stream",
          "name": "stdout",
          "text": [
            "Epoch 1/200\n",
            "1865/1865 - 23s - 12ms/step - loss: 0.1726 - val_loss: 0.1470 - learning_rate: 0.0030\n",
            "Epoch 2/200\n",
            "1865/1865 - 9s - 5ms/step - loss: 0.1544 - val_loss: 0.1400 - learning_rate: 0.0030\n",
            "Epoch 3/200\n",
            "1865/1865 - 7s - 4ms/step - loss: 0.1498 - val_loss: 0.1344 - learning_rate: 0.0030\n",
            "Epoch 4/200\n",
            "1865/1865 - 10s - 5ms/step - loss: 0.1476 - val_loss: 0.1331 - learning_rate: 0.0030\n",
            "Epoch 5/200\n",
            "1865/1865 - 10s - 6ms/step - loss: 0.1461 - val_loss: 0.1328 - learning_rate: 0.0030\n",
            "Epoch 6/200\n",
            "1865/1865 - 10s - 5ms/step - loss: 0.1453 - val_loss: 0.1310 - learning_rate: 0.0030\n",
            "Epoch 7/200\n",
            "1865/1865 - 8s - 4ms/step - loss: 0.1445 - val_loss: 0.1329 - learning_rate: 0.0030\n",
            "Epoch 8/200\n",
            "1865/1865 - 7s - 4ms/step - loss: 0.1440 - val_loss: 0.1310 - learning_rate: 0.0030\n",
            "Epoch 9/200\n",
            "1865/1865 - 10s - 5ms/step - loss: 0.1434 - val_loss: 0.1297 - learning_rate: 0.0030\n",
            "Epoch 10/200\n",
            "1865/1865 - 10s - 6ms/step - loss: 0.1428 - val_loss: 0.1303 - learning_rate: 0.0030\n",
            "Epoch 11/200\n",
            "1865/1865 - 10s - 5ms/step - loss: 0.1427 - val_loss: 0.1291 - learning_rate: 0.0030\n",
            "Epoch 12/200\n",
            "1865/1865 - 11s - 6ms/step - loss: 0.1421 - val_loss: 0.1291 - learning_rate: 0.0030\n",
            "Epoch 13/200\n",
            "1865/1865 - 7s - 4ms/step - loss: 0.1420 - val_loss: 0.1288 - learning_rate: 0.0030\n",
            "Epoch 14/200\n",
            "1865/1865 - 6s - 3ms/step - loss: 0.1416 - val_loss: 0.1296 - learning_rate: 0.0030\n",
            "Epoch 15/200\n",
            "1865/1865 - 11s - 6ms/step - loss: 0.1413 - val_loss: 0.1281 - learning_rate: 0.0030\n",
            "Epoch 16/200\n",
            "1865/1865 - 11s - 6ms/step - loss: 0.1413 - val_loss: 0.1280 - learning_rate: 0.0030\n",
            "Epoch 17/200\n",
            "1865/1865 - 6s - 3ms/step - loss: 0.1412 - val_loss: 0.1287 - learning_rate: 0.0030\n",
            "Epoch 18/200\n",
            "1865/1865 - 10s - 5ms/step - loss: 0.1408 - val_loss: 0.1282 - learning_rate: 0.0030\n",
            "Epoch 19/200\n",
            "1865/1865 - 7s - 4ms/step - loss: 0.1407 - val_loss: 0.1282 - learning_rate: 0.0030\n",
            "Epoch 20/200\n",
            "1865/1865 - 6s - 3ms/step - loss: 0.1408 - val_loss: 0.1278 - learning_rate: 0.0030\n",
            "Epoch 21/200\n",
            "1865/1865 - 7s - 4ms/step - loss: 0.1406 - val_loss: 0.1287 - learning_rate: 0.0030\n",
            "Epoch 22/200\n",
            "1865/1865 - 10s - 5ms/step - loss: 0.1403 - val_loss: 0.1280 - learning_rate: 0.0030\n",
            "Epoch 23/200\n",
            "1865/1865 - 7s - 4ms/step - loss: 0.1402 - val_loss: 0.1273 - learning_rate: 0.0030\n",
            "Epoch 24/200\n",
            "1865/1865 - 7s - 4ms/step - loss: 0.1399 - val_loss: 0.1275 - learning_rate: 0.0030\n",
            "Epoch 25/200\n",
            "1865/1865 - 10s - 5ms/step - loss: 0.1399 - val_loss: 0.1273 - learning_rate: 0.0030\n",
            "Epoch 26/200\n",
            "1865/1865 - 10s - 6ms/step - loss: 0.1398 - val_loss: 0.1277 - learning_rate: 0.0030\n",
            "Epoch 27/200\n",
            "\n",
            "Epoch 27: ReduceLROnPlateau reducing learning rate to 0.001500000013038516.\n",
            "1865/1865 - 7s - 4ms/step - loss: 0.1399 - val_loss: 0.1279 - learning_rate: 0.0030\n",
            "Epoch 28/200\n",
            "1865/1865 - 11s - 6ms/step - loss: 0.1383 - val_loss: 0.1253 - learning_rate: 0.0015\n",
            "Epoch 29/200\n",
            "1865/1865 - 10s - 5ms/step - loss: 0.1377 - val_loss: 0.1252 - learning_rate: 0.0015\n",
            "Epoch 30/200\n",
            "1865/1865 - 11s - 6ms/step - loss: 0.1378 - val_loss: 0.1252 - learning_rate: 0.0015\n",
            "Epoch 31/200\n",
            "1865/1865 - 10s - 5ms/step - loss: 0.1376 - val_loss: 0.1254 - learning_rate: 0.0015\n",
            "Epoch 32/200\n",
            "\n",
            "Epoch 32: ReduceLROnPlateau reducing learning rate to 0.000750000006519258.\n",
            "1865/1865 - 10s - 5ms/step - loss: 0.1378 - val_loss: 0.1254 - learning_rate: 0.0015\n",
            "Epoch 33/200\n",
            "1865/1865 - 7s - 4ms/step - loss: 0.1369 - val_loss: 0.1243 - learning_rate: 7.5000e-04\n",
            "Epoch 34/200\n",
            "1865/1865 - 7s - 4ms/step - loss: 0.1366 - val_loss: 0.1243 - learning_rate: 7.5000e-04\n",
            "Epoch 35/200\n",
            "1865/1865 - 7s - 4ms/step - loss: 0.1367 - val_loss: 0.1242 - learning_rate: 7.5000e-04\n",
            "Epoch 36/200\n",
            "1865/1865 - 11s - 6ms/step - loss: 0.1365 - val_loss: 0.1242 - learning_rate: 7.5000e-04\n",
            "Epoch 37/200\n",
            "1865/1865 - 10s - 5ms/step - loss: 0.1365 - val_loss: 0.1241 - learning_rate: 7.5000e-04\n",
            "Epoch 38/200\n",
            "1865/1865 - 10s - 5ms/step - loss: 0.1366 - val_loss: 0.1243 - learning_rate: 7.5000e-04\n",
            "Epoch 39/200\n",
            "1865/1865 - 6s - 3ms/step - loss: 0.1366 - val_loss: 0.1243 - learning_rate: 7.5000e-04\n",
            "Epoch 40/200\n",
            "1865/1865 - 11s - 6ms/step - loss: 0.1363 - val_loss: 0.1241 - learning_rate: 7.5000e-04\n",
            "Epoch 41/200\n",
            "\n",
            "Epoch 41: ReduceLROnPlateau reducing learning rate to 0.000375000003259629.\n",
            "1865/1865 - 7s - 4ms/step - loss: 0.1363 - val_loss: 0.1243 - learning_rate: 7.5000e-04\n",
            "Epoch 42/200\n",
            "1865/1865 - 10s - 5ms/step - loss: 0.1360 - val_loss: 0.1239 - learning_rate: 3.7500e-04\n",
            "Epoch 43/200\n",
            "1865/1865 - 10s - 6ms/step - loss: 0.1359 - val_loss: 0.1237 - learning_rate: 3.7500e-04\n",
            "Epoch 44/200\n",
            "1865/1865 - 10s - 5ms/step - loss: 0.1360 - val_loss: 0.1236 - learning_rate: 3.7500e-04\n",
            "Epoch 45/200\n",
            "1865/1865 - 10s - 5ms/step - loss: 0.1358 - val_loss: 0.1236 - learning_rate: 3.7500e-04\n",
            "Epoch 46/200\n",
            "1865/1865 - 11s - 6ms/step - loss: 0.1359 - val_loss: 0.1237 - learning_rate: 3.7500e-04\n",
            "Epoch 47/200\n",
            "1865/1865 - 7s - 4ms/step - loss: 0.1357 - val_loss: 0.1235 - learning_rate: 3.7500e-04\n",
            "Epoch 48/200\n",
            "\n",
            "Epoch 48: ReduceLROnPlateau reducing learning rate to 0.0001875000016298145.\n",
            "1865/1865 - 11s - 6ms/step - loss: 0.1360 - val_loss: 0.1237 - learning_rate: 3.7500e-04\n",
            "Epoch 49/200\n",
            "1865/1865 - 9s - 5ms/step - loss: 0.1355 - val_loss: 0.1234 - learning_rate: 1.8750e-04\n",
            "Epoch 50/200\n",
            "1865/1865 - 10s - 5ms/step - loss: 0.1354 - val_loss: 0.1234 - learning_rate: 1.8750e-04\n",
            "Epoch 51/200\n",
            "1865/1865 - 11s - 6ms/step - loss: 0.1355 - val_loss: 0.1233 - learning_rate: 1.8750e-04\n",
            "Epoch 52/200\n",
            "1865/1865 - 10s - 6ms/step - loss: 0.1353 - val_loss: 0.1234 - learning_rate: 1.8750e-04\n",
            "Epoch 53/200\n",
            "\n",
            "Epoch 53: ReduceLROnPlateau reducing learning rate to 9.375000081490725e-05.\n",
            "1865/1865 - 7s - 4ms/step - loss: 0.1355 - val_loss: 0.1233 - learning_rate: 1.8750e-04\n",
            "Epoch 54/200\n",
            "1865/1865 - 6s - 3ms/step - loss: 0.1352 - val_loss: 0.1233 - learning_rate: 9.3750e-05\n",
            "Epoch 55/200\n",
            "1865/1865 - 11s - 6ms/step - loss: 0.1352 - val_loss: 0.1233 - learning_rate: 9.3750e-05\n",
            "Epoch 56/200\n",
            "1865/1865 - 10s - 6ms/step - loss: 0.1352 - val_loss: 0.1233 - learning_rate: 9.3750e-05\n",
            "Epoch 57/200\n",
            "1865/1865 - 10s - 5ms/step - loss: 0.1354 - val_loss: 0.1232 - learning_rate: 9.3750e-05\n",
            "Epoch 58/200\n",
            "1865/1865 - 6s - 3ms/step - loss: 0.1351 - val_loss: 0.1233 - learning_rate: 9.3750e-05\n",
            "Epoch 59/200\n",
            "\n",
            "Epoch 59: ReduceLROnPlateau reducing learning rate to 4.6875000407453626e-05.\n",
            "1865/1865 - 11s - 6ms/step - loss: 0.1353 - val_loss: 0.1233 - learning_rate: 9.3750e-05\n",
            "Epoch 60/200\n",
            "1865/1865 - 10s - 6ms/step - loss: 0.1350 - val_loss: 0.1232 - learning_rate: 4.6875e-05\n",
            "Epoch 61/200\n",
            "1865/1865 - 10s - 6ms/step - loss: 0.1352 - val_loss: 0.1233 - learning_rate: 4.6875e-05\n",
            "Epoch 62/200\n",
            "1865/1865 - 10s - 5ms/step - loss: 0.1352 - val_loss: 0.1232 - learning_rate: 4.6875e-05\n",
            "Epoch 63/200\n",
            "\n",
            "Epoch 63: ReduceLROnPlateau reducing learning rate to 2.3437500203726813e-05.\n",
            "1865/1865 - 6s - 3ms/step - loss: 0.1353 - val_loss: 0.1232 - learning_rate: 4.6875e-05\n",
            "Epoch 64/200\n",
            "1865/1865 - 7s - 4ms/step - loss: 0.1351 - val_loss: 0.1232 - learning_rate: 2.3438e-05\n",
            "Epoch 65/200\n",
            "1865/1865 - 10s - 5ms/step - loss: 0.1350 - val_loss: 0.1232 - learning_rate: 2.3438e-05\n",
            "Epoch 66/200\n",
            "1865/1865 - 7s - 4ms/step - loss: 0.1352 - val_loss: 0.1232 - learning_rate: 2.3438e-05\n",
            "Epoch 67/200\n",
            "\n",
            "Epoch 67: ReduceLROnPlateau reducing learning rate to 1.1718750101863407e-05.\n",
            "1865/1865 - 7s - 4ms/step - loss: 0.1352 - val_loss: 0.1232 - learning_rate: 2.3438e-05\n",
            "Epoch 68/200\n",
            "1865/1865 - 7s - 4ms/step - loss: 0.1352 - val_loss: 0.1232 - learning_rate: 1.1719e-05\n",
            "Epoch 69/200\n",
            "1865/1865 - 10s - 5ms/step - loss: 0.1349 - val_loss: 0.1232 - learning_rate: 1.1719e-05\n",
            "Epoch 70/200\n",
            "1865/1865 - 11s - 6ms/step - loss: 0.1351 - val_loss: 0.1232 - learning_rate: 1.1719e-05\n",
            "Epoch 71/200\n",
            "1865/1865 - 7s - 4ms/step - loss: 0.1352 - val_loss: 0.1232 - learning_rate: 1.1719e-05\n",
            "Epoch 72/200\n",
            "\n",
            "Epoch 72: ReduceLROnPlateau reducing learning rate to 5.859375050931703e-06.\n",
            "1865/1865 - 10s - 5ms/step - loss: 0.1351 - val_loss: 0.1232 - learning_rate: 1.1719e-05\n",
            "Epoch 73/200\n",
            "1865/1865 - 10s - 5ms/step - loss: 0.1352 - val_loss: 0.1232 - learning_rate: 5.8594e-06\n",
            "Epoch 74/200\n",
            "1865/1865 - 7s - 4ms/step - loss: 0.1350 - val_loss: 0.1232 - learning_rate: 5.8594e-06\n",
            "Epoch 75/200\n",
            "1865/1865 - 7s - 4ms/step - loss: 0.1351 - val_loss: 0.1232 - learning_rate: 5.8594e-06\n",
            "Epoch 76/200\n",
            "\n",
            "Epoch 76: ReduceLROnPlateau reducing learning rate to 2.9296875254658516e-06.\n",
            "1865/1865 - 6s - 3ms/step - loss: 0.1351 - val_loss: 0.1232 - learning_rate: 5.8594e-06\n",
            "Epoch 77/200\n",
            "1865/1865 - 7s - 4ms/step - loss: 0.1353 - val_loss: 0.1232 - learning_rate: 2.9297e-06\n",
            "Epoch 78/200\n",
            "1865/1865 - 10s - 5ms/step - loss: 0.1352 - val_loss: 0.1232 - learning_rate: 2.9297e-06\n",
            "Epoch 78: early stopping\n",
            "Restoring model weights from the end of the best epoch: 68.\n",
            "Saved stable model.\n"
          ]
        }
      ]
    },
    {
      "cell_type": "code",
      "source": [
        "def get_all_utterance_representations(mfccs, autoencoder, set_name=\"\"):\n",
        "    \"\"\"\n",
        "    For each utterance mfccs[i]:\n",
        "      1) Build initial pair (frame_1, frame_2) (or duplicate if only 1 frame)\n",
        "      2) Get its initial_vector = autoencoder.predict(pair)\n",
        "      3) Fold in frames 3..N sequentially\n",
        "    Returns: (num_utts, bottleneck_dim) array\n",
        "    \"\"\"\n",
        "    reps = []\n",
        "    total = len(mfccs)\n",
        "\n",
        "    # 1) Build all initial pairs in order\n",
        "    initial_pairs = []\n",
        "    for mfcc in mfccs:\n",
        "        if mfcc.shape[0] >= 2:\n",
        "            p = np.concatenate([mfcc[0], mfcc[1]], axis=0)\n",
        "        else:\n",
        "            p = np.concatenate([mfcc[0], mfcc[0]], axis=0)\n",
        "        initial_pairs.append(p)\n",
        "    initial_pairs = np.stack(initial_pairs).astype(np.float32)  # (total, 2*n_mfcc)\n",
        "\n",
        "    # 2) Batch‑predict all initials\n",
        "    initial_vectors = autoencoder.predict(initial_pairs, batch_size=32, verbose=0)\n",
        "\n",
        "    # 3) Now sequentially fold in frames 3...N for each utterance\n",
        "    for idx, mfcc in enumerate(mfccs):\n",
        "        if idx % 100 == 0:\n",
        "            print(f\"{set_name}: processing utterance {idx+1}/{total}\")\n",
        "        vec = initial_vectors[idx]  # already shape (n_mfcc,)\n",
        "        # fold in from frame 3 onward\n",
        "        for t in range(2, mfcc.shape[0]):\n",
        "            pair = np.concatenate([vec, mfcc[t]], axis=0).reshape(1, -1)\n",
        "            vec = autoencoder.predict_on_batch(pair)[0]\n",
        "        reps.append(vec)\n",
        "\n",
        "    reps = np.stack(reps).astype(np.float32)\n",
        "    print(f\"{set_name}: done, generated {reps.shape[0]} utterance reps\")\n",
        "    return reps\n",
        "\n",
        "train_encoded_2 = get_all_utterance_representations(train_mfccs_norm, model, \"train\")\n",
        "val_encoded_2   = get_all_utterance_representations(val_mfccs_norm,   model, \"val\")\n",
        "test_encoded_2  = get_all_utterance_representations(test_mfccs_norm,  model, \"test\")\n"
      ],
      "metadata": {
        "colab": {
          "base_uri": "https://localhost:8080/"
        },
        "id": "bXLYRvXeOJeZ",
        "outputId": "e26860d0-d8ee-467f-89ce-3914da7a267f"
      },
      "execution_count": 55,
      "outputs": [
        {
          "output_type": "stream",
          "name": "stdout",
          "text": [
            "train: processing utterance 1/2100\n",
            "train: processing utterance 101/2100\n",
            "train: processing utterance 201/2100\n",
            "train: processing utterance 301/2100\n",
            "train: processing utterance 401/2100\n",
            "train: processing utterance 501/2100\n",
            "train: processing utterance 601/2100\n",
            "train: processing utterance 701/2100\n",
            "train: processing utterance 801/2100\n",
            "train: processing utterance 901/2100\n",
            "train: processing utterance 1001/2100\n",
            "train: processing utterance 1101/2100\n",
            "train: processing utterance 1201/2100\n",
            "train: processing utterance 1301/2100\n",
            "train: processing utterance 1401/2100\n",
            "train: processing utterance 1501/2100\n",
            "train: processing utterance 1601/2100\n",
            "train: processing utterance 1701/2100\n",
            "train: processing utterance 1801/2100\n",
            "train: processing utterance 1901/2100\n",
            "train: processing utterance 2001/2100\n",
            "train: done, generated 2100 utterance reps\n",
            "val: processing utterance 1/450\n",
            "val: processing utterance 101/450\n",
            "val: processing utterance 201/450\n",
            "val: processing utterance 301/450\n",
            "val: processing utterance 401/450\n",
            "val: done, generated 450 utterance reps\n",
            "test: processing utterance 1/450\n",
            "test: processing utterance 101/450\n",
            "test: processing utterance 201/450\n",
            "test: processing utterance 301/450\n",
            "test: processing utterance 401/450\n",
            "test: done, generated 450 utterance reps\n"
          ]
        }
      ]
    },
    {
      "cell_type": "code",
      "source": [
        "mlp_model_2 = create_mlp_classifier(input_dim=output_dim)\n",
        "try:\n",
        "    history_2 = mlp_model_2.fit(\n",
        "        train_encoded_2, train_labels,\n",
        "        validation_data=(val_encoded_2, val_labels),\n",
        "        epochs=100,\n",
        "        batch_size=16,\n",
        "        callbacks=[EarlyStopping(monitor='val_loss', patience=10, restore_best_weights=True)],\n",
        "        verbose=2\n",
        "    )\n",
        "    mlp_model_2.save('mlp_classifier_3_dim_10.keras')\n",
        "\n",
        "\n",
        "    test_loss_3, test_accuracy_3 = mlp_model_2.evaluate(test_encoded_2, test_labels, verbose=0)\n",
        "    print(f\"Approach 2 Test Accuracy for 10D: {test_accuracy_3:.4f}\")\n",
        "    print(f\"Approach 2 Test Loss for 10D: {test_loss_3:.4f}\")\n",
        "except Exception as e:\n",
        "    print(f\"Error training/evaluating classifier: {e}\")"
      ],
      "metadata": {
        "colab": {
          "base_uri": "https://localhost:8080/"
        },
        "id": "JOoOVf6D9pQ9",
        "outputId": "75aa9026-4091-423b-dc0e-e8c2774e56b5"
      },
      "execution_count": 56,
      "outputs": [
        {
          "output_type": "stream",
          "name": "stdout",
          "text": [
            "Epoch 1/100\n",
            "132/132 - 4s - 31ms/step - accuracy: 0.1719 - loss: 2.2367 - val_accuracy: 0.2689 - val_loss: 2.1155\n",
            "Epoch 2/100\n",
            "132/132 - 2s - 18ms/step - accuracy: 0.2438 - loss: 2.0700 - val_accuracy: 0.3067 - val_loss: 1.9608\n",
            "Epoch 3/100\n",
            "132/132 - 1s - 5ms/step - accuracy: 0.2786 - loss: 1.9612 - val_accuracy: 0.3133 - val_loss: 1.8663\n",
            "Epoch 4/100\n",
            "132/132 - 1s - 5ms/step - accuracy: 0.3095 - loss: 1.8801 - val_accuracy: 0.3267 - val_loss: 1.8071\n",
            "Epoch 5/100\n",
            "132/132 - 1s - 5ms/step - accuracy: 0.3205 - loss: 1.8353 - val_accuracy: 0.3356 - val_loss: 1.7877\n",
            "Epoch 6/100\n",
            "132/132 - 1s - 5ms/step - accuracy: 0.3371 - loss: 1.8008 - val_accuracy: 0.3467 - val_loss: 1.7520\n",
            "Epoch 7/100\n",
            "132/132 - 1s - 5ms/step - accuracy: 0.3429 - loss: 1.7812 - val_accuracy: 0.3444 - val_loss: 1.7312\n",
            "Epoch 8/100\n",
            "132/132 - 1s - 6ms/step - accuracy: 0.3405 - loss: 1.7615 - val_accuracy: 0.3622 - val_loss: 1.7032\n",
            "Epoch 9/100\n",
            "132/132 - 1s - 5ms/step - accuracy: 0.3552 - loss: 1.7370 - val_accuracy: 0.3578 - val_loss: 1.6986\n",
            "Epoch 10/100\n",
            "132/132 - 1s - 4ms/step - accuracy: 0.3610 - loss: 1.7137 - val_accuracy: 0.3867 - val_loss: 1.6802\n",
            "Epoch 11/100\n",
            "132/132 - 0s - 3ms/step - accuracy: 0.3705 - loss: 1.7038 - val_accuracy: 0.3933 - val_loss: 1.6578\n",
            "Epoch 12/100\n",
            "132/132 - 1s - 5ms/step - accuracy: 0.3581 - loss: 1.6992 - val_accuracy: 0.4067 - val_loss: 1.6412\n",
            "Epoch 13/100\n",
            "132/132 - 0s - 3ms/step - accuracy: 0.3929 - loss: 1.6708 - val_accuracy: 0.4244 - val_loss: 1.6261\n",
            "Epoch 14/100\n",
            "132/132 - 1s - 4ms/step - accuracy: 0.3990 - loss: 1.6557 - val_accuracy: 0.4244 - val_loss: 1.6109\n",
            "Epoch 15/100\n",
            "132/132 - 1s - 5ms/step - accuracy: 0.3852 - loss: 1.6857 - val_accuracy: 0.4333 - val_loss: 1.6116\n",
            "Epoch 16/100\n",
            "132/132 - 1s - 5ms/step - accuracy: 0.4000 - loss: 1.6469 - val_accuracy: 0.4178 - val_loss: 1.6073\n",
            "Epoch 17/100\n",
            "132/132 - 1s - 4ms/step - accuracy: 0.4024 - loss: 1.6345 - val_accuracy: 0.4267 - val_loss: 1.5999\n",
            "Epoch 18/100\n",
            "132/132 - 0s - 4ms/step - accuracy: 0.4229 - loss: 1.6107 - val_accuracy: 0.4333 - val_loss: 1.5855\n",
            "Epoch 19/100\n",
            "132/132 - 1s - 4ms/step - accuracy: 0.4162 - loss: 1.6100 - val_accuracy: 0.4444 - val_loss: 1.5770\n",
            "Epoch 20/100\n",
            "132/132 - 0s - 4ms/step - accuracy: 0.4052 - loss: 1.6064 - val_accuracy: 0.4333 - val_loss: 1.5788\n",
            "Epoch 21/100\n",
            "132/132 - 0s - 4ms/step - accuracy: 0.4133 - loss: 1.5833 - val_accuracy: 0.4333 - val_loss: 1.5663\n",
            "Epoch 22/100\n",
            "132/132 - 1s - 4ms/step - accuracy: 0.4210 - loss: 1.5730 - val_accuracy: 0.4444 - val_loss: 1.5622\n",
            "Epoch 23/100\n",
            "132/132 - 1s - 5ms/step - accuracy: 0.4452 - loss: 1.5647 - val_accuracy: 0.4378 - val_loss: 1.5583\n",
            "Epoch 24/100\n",
            "132/132 - 0s - 4ms/step - accuracy: 0.4405 - loss: 1.5589 - val_accuracy: 0.4333 - val_loss: 1.5503\n",
            "Epoch 25/100\n",
            "132/132 - 1s - 4ms/step - accuracy: 0.4314 - loss: 1.5439 - val_accuracy: 0.4489 - val_loss: 1.5357\n",
            "Epoch 26/100\n",
            "132/132 - 0s - 3ms/step - accuracy: 0.4333 - loss: 1.5475 - val_accuracy: 0.4511 - val_loss: 1.5358\n",
            "Epoch 27/100\n",
            "132/132 - 1s - 5ms/step - accuracy: 0.4405 - loss: 1.5424 - val_accuracy: 0.4578 - val_loss: 1.5333\n",
            "Epoch 28/100\n",
            "132/132 - 0s - 4ms/step - accuracy: 0.4286 - loss: 1.5396 - val_accuracy: 0.4422 - val_loss: 1.5336\n",
            "Epoch 29/100\n",
            "132/132 - 1s - 5ms/step - accuracy: 0.4329 - loss: 1.5358 - val_accuracy: 0.4600 - val_loss: 1.5329\n",
            "Epoch 30/100\n",
            "132/132 - 1s - 5ms/step - accuracy: 0.4352 - loss: 1.5210 - val_accuracy: 0.4533 - val_loss: 1.5307\n",
            "Epoch 31/100\n",
            "132/132 - 1s - 5ms/step - accuracy: 0.4605 - loss: 1.5069 - val_accuracy: 0.4356 - val_loss: 1.5261\n",
            "Epoch 32/100\n",
            "132/132 - 1s - 5ms/step - accuracy: 0.4400 - loss: 1.5055 - val_accuracy: 0.4422 - val_loss: 1.5234\n",
            "Epoch 33/100\n",
            "132/132 - 0s - 3ms/step - accuracy: 0.4590 - loss: 1.5002 - val_accuracy: 0.4511 - val_loss: 1.5286\n",
            "Epoch 34/100\n",
            "132/132 - 0s - 3ms/step - accuracy: 0.4533 - loss: 1.4886 - val_accuracy: 0.4511 - val_loss: 1.5206\n",
            "Epoch 35/100\n",
            "132/132 - 0s - 3ms/step - accuracy: 0.4543 - loss: 1.4856 - val_accuracy: 0.4444 - val_loss: 1.5192\n",
            "Epoch 36/100\n",
            "132/132 - 0s - 3ms/step - accuracy: 0.4605 - loss: 1.4845 - val_accuracy: 0.4556 - val_loss: 1.5161\n",
            "Epoch 37/100\n",
            "132/132 - 1s - 5ms/step - accuracy: 0.4686 - loss: 1.4682 - val_accuracy: 0.4289 - val_loss: 1.5281\n",
            "Epoch 38/100\n",
            "132/132 - 1s - 5ms/step - accuracy: 0.4552 - loss: 1.4957 - val_accuracy: 0.4667 - val_loss: 1.5163\n",
            "Epoch 39/100\n",
            "132/132 - 1s - 5ms/step - accuracy: 0.4519 - loss: 1.4809 - val_accuracy: 0.4444 - val_loss: 1.5237\n",
            "Epoch 40/100\n",
            "132/132 - 0s - 4ms/step - accuracy: 0.4776 - loss: 1.4638 - val_accuracy: 0.4311 - val_loss: 1.5223\n",
            "Epoch 41/100\n",
            "132/132 - 0s - 3ms/step - accuracy: 0.4581 - loss: 1.4800 - val_accuracy: 0.4600 - val_loss: 1.5199\n",
            "Epoch 42/100\n",
            "132/132 - 1s - 5ms/step - accuracy: 0.4614 - loss: 1.4836 - val_accuracy: 0.4422 - val_loss: 1.5057\n",
            "Epoch 43/100\n",
            "132/132 - 1s - 5ms/step - accuracy: 0.4505 - loss: 1.4565 - val_accuracy: 0.4667 - val_loss: 1.5094\n",
            "Epoch 44/100\n",
            "132/132 - 0s - 4ms/step - accuracy: 0.4600 - loss: 1.4611 - val_accuracy: 0.4489 - val_loss: 1.5040\n",
            "Epoch 45/100\n",
            "132/132 - 1s - 5ms/step - accuracy: 0.4762 - loss: 1.4494 - val_accuracy: 0.4444 - val_loss: 1.5047\n",
            "Epoch 46/100\n",
            "132/132 - 0s - 4ms/step - accuracy: 0.4676 - loss: 1.4423 - val_accuracy: 0.4333 - val_loss: 1.5087\n",
            "Epoch 47/100\n",
            "132/132 - 0s - 3ms/step - accuracy: 0.4710 - loss: 1.4509 - val_accuracy: 0.4556 - val_loss: 1.5036\n",
            "Epoch 48/100\n",
            "132/132 - 1s - 5ms/step - accuracy: 0.4629 - loss: 1.4384 - val_accuracy: 0.4489 - val_loss: 1.5032\n",
            "Epoch 49/100\n",
            "132/132 - 0s - 4ms/step - accuracy: 0.4714 - loss: 1.4391 - val_accuracy: 0.4511 - val_loss: 1.5035\n",
            "Epoch 50/100\n",
            "132/132 - 1s - 5ms/step - accuracy: 0.4733 - loss: 1.4370 - val_accuracy: 0.4356 - val_loss: 1.5149\n",
            "Epoch 51/100\n",
            "132/132 - 1s - 5ms/step - accuracy: 0.4710 - loss: 1.4268 - val_accuracy: 0.4400 - val_loss: 1.5138\n",
            "Epoch 52/100\n",
            "132/132 - 1s - 5ms/step - accuracy: 0.4748 - loss: 1.4182 - val_accuracy: 0.4378 - val_loss: 1.4957\n",
            "Epoch 53/100\n",
            "132/132 - 1s - 4ms/step - accuracy: 0.4767 - loss: 1.4308 - val_accuracy: 0.4511 - val_loss: 1.4992\n",
            "Epoch 54/100\n",
            "132/132 - 1s - 5ms/step - accuracy: 0.4695 - loss: 1.4306 - val_accuracy: 0.4333 - val_loss: 1.4918\n",
            "Epoch 55/100\n",
            "132/132 - 0s - 4ms/step - accuracy: 0.4752 - loss: 1.4094 - val_accuracy: 0.4400 - val_loss: 1.4858\n",
            "Epoch 56/100\n",
            "132/132 - 1s - 4ms/step - accuracy: 0.4814 - loss: 1.4294 - val_accuracy: 0.4622 - val_loss: 1.4847\n",
            "Epoch 57/100\n",
            "132/132 - 1s - 5ms/step - accuracy: 0.4862 - loss: 1.3948 - val_accuracy: 0.4556 - val_loss: 1.4938\n",
            "Epoch 58/100\n",
            "132/132 - 0s - 3ms/step - accuracy: 0.4919 - loss: 1.3962 - val_accuracy: 0.4467 - val_loss: 1.4903\n",
            "Epoch 59/100\n",
            "132/132 - 1s - 5ms/step - accuracy: 0.4819 - loss: 1.4104 - val_accuracy: 0.4511 - val_loss: 1.4885\n",
            "Epoch 60/100\n",
            "132/132 - 0s - 4ms/step - accuracy: 0.4786 - loss: 1.4031 - val_accuracy: 0.4622 - val_loss: 1.4994\n",
            "Epoch 61/100\n",
            "132/132 - 0s - 3ms/step - accuracy: 0.4938 - loss: 1.3944 - val_accuracy: 0.4533 - val_loss: 1.4847\n",
            "Epoch 62/100\n",
            "132/132 - 0s - 4ms/step - accuracy: 0.4776 - loss: 1.3912 - val_accuracy: 0.4667 - val_loss: 1.4855\n",
            "Epoch 63/100\n",
            "132/132 - 0s - 3ms/step - accuracy: 0.4824 - loss: 1.3903 - val_accuracy: 0.4756 - val_loss: 1.4844\n",
            "Epoch 64/100\n",
            "132/132 - 1s - 5ms/step - accuracy: 0.4962 - loss: 1.3728 - val_accuracy: 0.4644 - val_loss: 1.4866\n",
            "Epoch 65/100\n",
            "132/132 - 0s - 3ms/step - accuracy: 0.4957 - loss: 1.3779 - val_accuracy: 0.4733 - val_loss: 1.4897\n",
            "Epoch 66/100\n",
            "132/132 - 1s - 5ms/step - accuracy: 0.4957 - loss: 1.3691 - val_accuracy: 0.4622 - val_loss: 1.4893\n",
            "Epoch 67/100\n",
            "132/132 - 0s - 3ms/step - accuracy: 0.5133 - loss: 1.3517 - val_accuracy: 0.4733 - val_loss: 1.4856\n",
            "Epoch 68/100\n",
            "132/132 - 1s - 5ms/step - accuracy: 0.5019 - loss: 1.3746 - val_accuracy: 0.4578 - val_loss: 1.4774\n",
            "Epoch 69/100\n",
            "132/132 - 0s - 4ms/step - accuracy: 0.5095 - loss: 1.3545 - val_accuracy: 0.4578 - val_loss: 1.4836\n",
            "Epoch 70/100\n",
            "132/132 - 1s - 4ms/step - accuracy: 0.5010 - loss: 1.3565 - val_accuracy: 0.4533 - val_loss: 1.4828\n",
            "Epoch 71/100\n",
            "132/132 - 0s - 3ms/step - accuracy: 0.5124 - loss: 1.3447 - val_accuracy: 0.4622 - val_loss: 1.4882\n",
            "Epoch 72/100\n",
            "132/132 - 0s - 3ms/step - accuracy: 0.4776 - loss: 1.3820 - val_accuracy: 0.4622 - val_loss: 1.4738\n",
            "Epoch 73/100\n",
            "132/132 - 0s - 4ms/step - accuracy: 0.4986 - loss: 1.3492 - val_accuracy: 0.4578 - val_loss: 1.4815\n",
            "Epoch 74/100\n",
            "132/132 - 1s - 5ms/step - accuracy: 0.5048 - loss: 1.3505 - val_accuracy: 0.4533 - val_loss: 1.4752\n",
            "Epoch 75/100\n",
            "132/132 - 1s - 5ms/step - accuracy: 0.4905 - loss: 1.3581 - val_accuracy: 0.4667 - val_loss: 1.4711\n",
            "Epoch 76/100\n",
            "132/132 - 1s - 4ms/step - accuracy: 0.5081 - loss: 1.3445 - val_accuracy: 0.4733 - val_loss: 1.4894\n",
            "Epoch 77/100\n",
            "132/132 - 0s - 4ms/step - accuracy: 0.5043 - loss: 1.3284 - val_accuracy: 0.4844 - val_loss: 1.4706\n",
            "Epoch 78/100\n",
            "132/132 - 0s - 3ms/step - accuracy: 0.5019 - loss: 1.3577 - val_accuracy: 0.4689 - val_loss: 1.4739\n",
            "Epoch 79/100\n",
            "132/132 - 0s - 3ms/step - accuracy: 0.5067 - loss: 1.3457 - val_accuracy: 0.4600 - val_loss: 1.4697\n",
            "Epoch 80/100\n",
            "132/132 - 0s - 4ms/step - accuracy: 0.5024 - loss: 1.3586 - val_accuracy: 0.4667 - val_loss: 1.4777\n",
            "Epoch 81/100\n",
            "132/132 - 1s - 4ms/step - accuracy: 0.5157 - loss: 1.3456 - val_accuracy: 0.4356 - val_loss: 1.4897\n",
            "Epoch 82/100\n",
            "132/132 - 0s - 3ms/step - accuracy: 0.5062 - loss: 1.3488 - val_accuracy: 0.4511 - val_loss: 1.4844\n",
            "Epoch 83/100\n",
            "132/132 - 1s - 5ms/step - accuracy: 0.5014 - loss: 1.3321 - val_accuracy: 0.4756 - val_loss: 1.4903\n",
            "Epoch 84/100\n",
            "132/132 - 0s - 3ms/step - accuracy: 0.5214 - loss: 1.3211 - val_accuracy: 0.4533 - val_loss: 1.4882\n",
            "Epoch 85/100\n",
            "132/132 - 1s - 5ms/step - accuracy: 0.5319 - loss: 1.3066 - val_accuracy: 0.4756 - val_loss: 1.4650\n",
            "Epoch 86/100\n",
            "132/132 - 0s - 4ms/step - accuracy: 0.5071 - loss: 1.3236 - val_accuracy: 0.4667 - val_loss: 1.4687\n",
            "Epoch 87/100\n",
            "132/132 - 0s - 3ms/step - accuracy: 0.5200 - loss: 1.3258 - val_accuracy: 0.4600 - val_loss: 1.4833\n",
            "Epoch 88/100\n",
            "132/132 - 1s - 5ms/step - accuracy: 0.5105 - loss: 1.3130 - val_accuracy: 0.4600 - val_loss: 1.4764\n",
            "Epoch 89/100\n",
            "132/132 - 0s - 4ms/step - accuracy: 0.5176 - loss: 1.3041 - val_accuracy: 0.4422 - val_loss: 1.4868\n",
            "Epoch 90/100\n",
            "132/132 - 0s - 4ms/step - accuracy: 0.5148 - loss: 1.2990 - val_accuracy: 0.4600 - val_loss: 1.4920\n",
            "Epoch 91/100\n",
            "132/132 - 1s - 4ms/step - accuracy: 0.5252 - loss: 1.3038 - val_accuracy: 0.4444 - val_loss: 1.4967\n",
            "Epoch 92/100\n",
            "132/132 - 0s - 3ms/step - accuracy: 0.5176 - loss: 1.3184 - val_accuracy: 0.4778 - val_loss: 1.4801\n",
            "Epoch 93/100\n",
            "132/132 - 0s - 3ms/step - accuracy: 0.5081 - loss: 1.3198 - val_accuracy: 0.4711 - val_loss: 1.4868\n",
            "Epoch 94/100\n",
            "132/132 - 0s - 3ms/step - accuracy: 0.5267 - loss: 1.3029 - val_accuracy: 0.4800 - val_loss: 1.4809\n",
            "Epoch 95/100\n",
            "132/132 - 1s - 5ms/step - accuracy: 0.5171 - loss: 1.3123 - val_accuracy: 0.4600 - val_loss: 1.4815\n",
            "Approach 2 Test Accuracy for 10D: 0.4444\n",
            "Approach 2 Test Loss for 10D: 1.5198\n"
          ]
        }
      ]
    },
    {
      "cell_type": "code",
      "source": [
        "import matplotlib.pyplot as plt\n",
        "\n",
        "# Extract metrics from history\n",
        "train_loss = history_2.history['loss']\n",
        "val_loss = history_2.history['val_loss']\n",
        "train_accuracy = history_2.history['accuracy']\n",
        "val_accuracy = history_2.history['val_accuracy']\n",
        "epochs = range(1, len(train_loss) + 1)\n",
        "\n",
        "# Create a figure with two subplots\n",
        "fig, (ax1, ax2) = plt.subplots(1, 2, figsize=(12, 5))\n",
        "\n",
        "# Plot accuracy\n",
        "ax1.plot(epochs, train_accuracy, 'b-', label='Training Accuracy')\n",
        "ax1.plot(epochs, val_accuracy, 'r-', label='Validation Accuracy')\n",
        "ax1.set_title('Training and Validation Accuracy')\n",
        "ax1.set_xlabel('Epochs')\n",
        "ax1.set_ylabel('Accuracy')\n",
        "ax1.legend()\n",
        "ax1.grid(True)\n",
        "\n",
        "# Plot loss\n",
        "ax2.plot(epochs, train_loss, 'b-', label='Training Loss')\n",
        "ax2.plot(epochs, val_loss, 'r-', label='Validation Loss')\n",
        "ax2.set_title('Training and Validation Loss')\n",
        "ax2.set_xlabel('Epochs')\n",
        "ax2.set_ylabel('Loss')\n",
        "ax2.legend()\n",
        "ax2.grid(True)\n",
        "\n",
        "# Adjust layout to prevent overlap\n",
        "plt.tight_layout()\n",
        "\n",
        "# Save the plot to a file\n",
        "plt.savefig('training_progress_baseline.png')\n",
        "\n",
        "# Display the plot\n",
        "plt.show()"
      ],
      "metadata": {
        "id": "6O_uWnnjOtIr"
      },
      "execution_count": null,
      "outputs": []
    },
    {
      "cell_type": "markdown",
      "source": [
        "# justfication"
      ],
      "metadata": {
        "id": "KDR8S65dBgly"
      }
    },
    {
      "cell_type": "code",
      "source": [
        "import matplotlib.pyplot as plt\n",
        "\n",
        "train_loss = classifier_histories[6]['loss']\n",
        "val_loss = classifier_histories[6]['val_loss']\n",
        "train_accuracy = classifier_histories[6]['accuracy']\n",
        "val_accuracy = classifier_histories[6]['val_accuracy']\n",
        "epochs = range(1, len(train_loss) + 1)\n",
        "\n",
        "# Create a figure with two subplots\n",
        "fig, (ax1, ax2) = plt.subplots(1, 2, figsize=(12, 5))\n",
        "\n",
        "# Plot accuracy\n",
        "ax1.plot(epochs, train_accuracy, 'b-', label='Training Accuracy')\n",
        "ax1.plot(epochs, val_accuracy, 'r-', label='Validation Accuracy')\n",
        "ax1.set_title('Training and Validation Accuracy')\n",
        "ax1.set_xlabel('Epochs')\n",
        "ax1.set_ylabel('Accuracy')\n",
        "ax1.legend()\n",
        "ax1.grid(True)\n",
        "\n",
        "# Plot loss\n",
        "ax2.plot(epochs, train_loss, 'b-', label='Training Loss')\n",
        "ax2.plot(epochs, val_loss, 'r-', label='Validation Loss')\n",
        "ax2.set_title('Training and Validation Loss')\n",
        "ax2.set_xlabel('Epochs')\n",
        "ax2.set_ylabel('Loss')\n",
        "ax2.legend()\n",
        "ax2.grid(True)\n",
        "\n",
        "# Adjust layout to prevent overlap\n",
        "plt.tight_layout()\n",
        "\n",
        "# Save the plot to a file\n",
        "plt.savefig('training_progress_baseline.png')\n",
        "\n",
        "# Display the plot\n",
        "plt.show()\n",
        "\n",
        "dim = bottleneck_dims[6]\n",
        "acc = test_accuracies[6]\n",
        "print(f\"Bottleneck {dim}D: {acc:.4f}\")"
      ],
      "metadata": {
        "id": "fWSlKYNz6YHh"
      },
      "execution_count": null,
      "outputs": []
    }
  ],
  "metadata": {
    "accelerator": "GPU",
    "colab": {
      "gpuType": "T4",
      "provenance": []
    },
    "kernelspec": {
      "display_name": "Python 3",
      "name": "python3"
    },
    "language_info": {
      "name": "python"
    }
  },
  "nbformat": 4,
  "nbformat_minor": 0
}
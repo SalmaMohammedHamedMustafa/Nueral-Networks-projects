{
  "cells": [
    {
      "cell_type": "code",
      "execution_count": 1,
      "metadata": {
        "id": "pcKV89142yQ4"
      },
      "outputs": [],
      "source": [
        "import os\n",
        "import numpy as np\n",
        "from PIL import Image\n",
        "from scipy.ndimage import rotate, shift, zoom\n",
        "from sklearn.metrics import accuracy_score\n",
        "from sklearn.svm import SVC\n"
      ]
    },
    {
      "cell_type": "code",
      "execution_count": 2,
      "metadata": {
        "colab": {
          "base_uri": "https://localhost:8080/"
        },
        "id": "YimrUUegj9FK",
        "outputId": "a8991c4d-87ec-416c-d188-9c5668687b30"
      },
      "outputs": [
        {
          "name": "stdout",
          "output_type": "stream",
          "text": [
            "Downloading from https://www.kaggle.com/api/v1/datasets/download/mohamedgamal07/reduced-mnist?dataset_version_number=1...\n"
          ]
        },
        {
          "name": "stderr",
          "output_type": "stream",
          "text": [
            "100%|██████████| 9.62M/9.62M [00:00<00:00, 54.0MB/s]"
          ]
        },
        {
          "name": "stdout",
          "output_type": "stream",
          "text": [
            "Extracting files...\n"
          ]
        },
        {
          "name": "stderr",
          "output_type": "stream",
          "text": [
            "\n"
          ]
        },
        {
          "name": "stdout",
          "output_type": "stream",
          "text": [
            "Path to dataset files: /root/.cache/kagglehub/datasets/mohamedgamal07/reduced-mnist/versions/1\n"
          ]
        }
      ],
      "source": [
        "import kagglehub\n",
        "\n",
        "# Download latest version\n",
        "path = kagglehub.dataset_download(\"mohamedgamal07/reduced-mnist\")\n",
        "\n",
        "print(\"Path to dataset files:\", path)"
      ]
    },
    {
      "cell_type": "code",
      "execution_count": 3,
      "metadata": {
        "id": "gOdnaV9wj8PG"
      },
      "outputs": [],
      "source": [
        "# --------------------------\n",
        "# Data Loading Functions\n",
        "# --------------------------\n",
        "def load_data(train_dir, test_dir):\n",
        "    \"\"\"Load MNIST data from directories\"\"\"\n",
        "    # Load training data\n",
        "    images, labels = [], []\n",
        "    for label in sorted(os.listdir(train_dir)):\n",
        "        label_dir = os.path.join(train_dir, label)\n",
        "        if os.path.isdir(label_dir):\n",
        "            for img_name in os.listdir(label_dir):\n",
        "                img_path = os.path.join(label_dir, img_name)\n",
        "                with Image.open(img_path) as img:\n",
        "                    img_array = np.array(img.convert('L'), dtype=np.float32) / 255.0\n",
        "                    images.append(img_array)\n",
        "                    labels.append(int(label))\n",
        "\n",
        "    # Load test data\n",
        "    test_images, test_labels = [], []\n",
        "    for label in sorted(os.listdir(test_dir)):\n",
        "        label_dir = os.path.join(test_dir, label)\n",
        "        if os.path.isdir(label_dir):\n",
        "            for img_name in os.listdir(label_dir):\n",
        "                img_path = os.path.join(label_dir, img_name)\n",
        "                with Image.open(img_path) as img:\n",
        "                    img_array = np.array(img.convert('L'), dtype=np.float32) / 255.0\n",
        "                    test_images.append(img_array)\n",
        "                    test_labels.append(int(label))\n",
        "\n",
        "    return (\n",
        "        np.array(images), np.array(labels),\n",
        "        np.array(test_images), np.array(test_labels)\n",
        ")"
      ]
    },
    {
      "cell_type": "code",
      "execution_count": 4,
      "metadata": {
        "id": "TOVN8Vd-j8PJ"
      },
      "outputs": [],
      "source": [
        "# --------------------------\n",
        "# Data Preparation Functions\n",
        "# --------------------------\n",
        "def create_subset(images, labels, n_per_class=40):\n",
        "    \"\"\"Create balanced subset with n_per_class samples per class\"\"\"\n",
        "    subset_images, subset_labels = [], []\n",
        "    for class_label in range(10):\n",
        "        class_indices = np.where(labels == class_label)[0]\n",
        "        selected = np.random.choice(class_indices, n_per_class, replace=False)\n",
        "        subset_images.extend(images[selected])\n",
        "        subset_labels.extend(labels[selected])\n",
        "    return (\n",
        "        np.array(subset_images),\n",
        "        np.array(subset_labels),\n",
        "        np.concatenate([np.where(labels == c)[0][:n_per_class] for c in range(10)])\n",
        "    )\n"
      ]
    },
    {
      "cell_type": "code",
      "execution_count": 5,
      "metadata": {
        "id": "GeKKDC9gb8rs"
      },
      "outputs": [],
      "source": [
        "def get_uncertain_samples(model, X_unlabeled, n_samples=100):\n",
        "    # Flatten images for SVM\n",
        "    X_flat = X_unlabeled.reshape(X_unlabeled.shape[0], -1)\n",
        "    decision_values = model.decision_function(X_flat)\n",
        "    margins = np.sort(decision_values, axis=1)[:, -1] - np.sort(decision_values, axis=1)[:, -2]  # Margin between top 2 classes\n",
        "    uncertain_indices = np.argsort(margins)[:n_samples]  # Smallest margins = most uncertain\n",
        "    return uncertain_indices"
      ]
    },
    {
      "cell_type": "code",
      "execution_count": 8,
      "metadata": {
        "id": "OZaApMlcdZYV"
      },
      "outputs": [],
      "source": [
        "from sklearn.svm import SVC\n",
        "from sklearn.metrics import accuracy_score\n",
        "import numpy as np\n",
        "import copy\n",
        "\n",
        "def active_learning_loop(X_labeled, y_labeled, X_unlabeled, y_unlabeled, X_test, y_test,\n",
        "                         n_iterations=10, samples_per_iteration=100,\n",
        "                         patience=8, tol=0.001):\n",
        "    \"\"\"\n",
        "    Active learning pipeline with uncertainty sampling and early stopping.\n",
        "    Evaluation is performed on the test set.\n",
        "\n",
        "    Returns:\n",
        "    model: Trained SVM model\n",
        "    X_labeled, y_labeled: Updated labeled dataset\n",
        "    X_unlabeled, y_unlabeled: Remaining unlabeled pool\n",
        "    accuracies: List of test accuracies per iteration\n",
        "    pipeline_human_time_list: List of cumulative labeling time (in seconds) after each iteration\n",
        "    full_manual_time: Estimated labeling time (in seconds) if all images were manually labeled\n",
        "    stopped_early: Boolean indicating if early stopping was triggered\n",
        "    \"\"\"\n",
        "    # Flatten initial labeled data and test set\n",
        "    X_labeled_flat = X_labeled.reshape(X_labeled.shape[0], -1)\n",
        "    X_test_flat = X_test.reshape(X_test.shape[0], -1)\n",
        "\n",
        "    # Initialize SVM model with probability enabled (if needed by uncertainty sampling)\n",
        "    model = SVC(kernel='rbf', decision_function_shape='ovr', probability=True)\n",
        "\n",
        "    # Track metrics\n",
        "    accuracies = []\n",
        "\n",
        "    # Calculate full manual labeling time based on the entire training dataset at the start.\n",
        "    original_total = len(y_labeled) + len(y_unlabeled)\n",
        "    full_manual_time = original_total * 10  # seconds (10 seconds per image)\n",
        "\n",
        "    # Pipeline human time starts with the time to label the initial labeled set.\n",
        "    pipeline_human_time = len(y_labeled) * 10  # seconds\n",
        "    pipeline_human_time_list = [pipeline_human_time]\n",
        "\n",
        "    best_acc = 0.0\n",
        "    wait = 0\n",
        "    stopped_early = False\n",
        "\n",
        "    for i in range(n_iterations):\n",
        "        # Train on current labeled data\n",
        "        model.fit(X_labeled_flat, y_labeled)\n",
        "        # Evaluate on the test set for early stopping\n",
        "        test_preds = model.predict(X_test_flat)\n",
        "        acc = accuracy_score(y_test, test_preds)\n",
        "        accuracies.append(acc)\n",
        "\n",
        "        print(f\"Iteration {i+1}/{n_iterations} | Test Accuracy: {acc:.3f} | Best: {best_acc:.3f} | Wait: {wait}/{patience}\")\n",
        "\n",
        "        # Early stopping check based on test set accuracy\n",
        "        if acc > best_acc + tol:\n",
        "            best_acc = acc\n",
        "            wait = 0\n",
        "        else:\n",
        "            wait += 1\n",
        "\n",
        "        if wait >= patience:\n",
        "            print(f\"\\nEarly stopping triggered at iteration {i+1}\")\n",
        "            stopped_early = True\n",
        "            break\n",
        "\n",
        "        # Sample selection: uncertainty sampling function assumed defined as get_uncertain_samples\n",
        "        uncertain_indices = get_uncertain_samples(model, X_unlabeled, samples_per_iteration)\n",
        "        if len(uncertain_indices) == 0:\n",
        "            print(\"No uncertain samples selected.\")\n",
        "            break\n",
        "\n",
        "        X_new = X_unlabeled[uncertain_indices]\n",
        "        y_new = y_unlabeled[uncertain_indices]\n",
        "\n",
        "        # Update labeled and unlabeled datasets\n",
        "        X_labeled = np.concatenate([X_labeled, X_new])\n",
        "        y_labeled = np.concatenate([y_labeled, y_new])\n",
        "        X_labeled_flat = X_labeled.reshape(X_labeled.shape[0], -1)\n",
        "\n",
        "        X_unlabeled = np.delete(X_unlabeled, uncertain_indices, axis=0)\n",
        "        y_unlabeled = np.delete(y_unlabeled, uncertain_indices, axis=0)\n",
        "\n",
        "        # Increase pipeline human time by the actual number of newly selected samples (10 sec each)\n",
        "        pipeline_human_time += len(uncertain_indices) * 10\n",
        "        pipeline_human_time_list.append(pipeline_human_time)\n",
        "\n",
        "    print(f\"\\nFull manual labeling time (for {original_total} images): {full_manual_time} seconds\")\n",
        "    print(f\"Pipeline human labeling time list: {pipeline_human_time_list}\")\n",
        "\n",
        "    return model, X_labeled, y_labeled, X_unlabeled, y_unlabeled, accuracies, pipeline_human_time_list, full_manual_time, stopped_early\n"
      ]
    },
    {
      "cell_type": "code",
      "execution_count": 11,
      "metadata": {
        "colab": {
          "base_uri": "https://localhost:8080/"
        },
        "id": "yi6eGN2ndd2L",
        "outputId": "1f0cbbc6-4a2b-49e1-9c56-474e12dfc012"
      },
      "outputs": [
        {
          "name": "stdout",
          "output_type": "stream",
          "text": [
            "Iteration 1/30 | Test Accuracy: 0.745 | Best: 0.000 | Wait: 0/8\n",
            "Iteration 2/30 | Test Accuracy: 0.634 | Best: 0.745 | Wait: 0/8\n",
            "Iteration 3/30 | Test Accuracy: 0.895 | Best: 0.745 | Wait: 1/8\n",
            "Iteration 4/30 | Test Accuracy: 0.915 | Best: 0.895 | Wait: 0/8\n",
            "Iteration 5/30 | Test Accuracy: 0.929 | Best: 0.915 | Wait: 0/8\n",
            "Iteration 6/30 | Test Accuracy: 0.939 | Best: 0.929 | Wait: 0/8\n",
            "Iteration 7/30 | Test Accuracy: 0.942 | Best: 0.939 | Wait: 0/8\n",
            "Iteration 8/30 | Test Accuracy: 0.947 | Best: 0.942 | Wait: 0/8\n",
            "Iteration 9/30 | Test Accuracy: 0.955 | Best: 0.947 | Wait: 0/8\n",
            "Iteration 10/30 | Test Accuracy: 0.959 | Best: 0.955 | Wait: 0/8\n",
            "Iteration 11/30 | Test Accuracy: 0.961 | Best: 0.959 | Wait: 0/8\n",
            "Iteration 12/30 | Test Accuracy: 0.966 | Best: 0.961 | Wait: 0/8\n",
            "Iteration 13/30 | Test Accuracy: 0.964 | Best: 0.966 | Wait: 0/8\n",
            "Iteration 14/30 | Test Accuracy: 0.969 | Best: 0.966 | Wait: 1/8\n",
            "Iteration 15/30 | Test Accuracy: 0.970 | Best: 0.969 | Wait: 0/8\n",
            "Iteration 16/30 | Test Accuracy: 0.970 | Best: 0.969 | Wait: 1/8\n",
            "Iteration 17/30 | Test Accuracy: 0.970 | Best: 0.969 | Wait: 2/8\n",
            "Iteration 18/30 | Test Accuracy: 0.970 | Best: 0.969 | Wait: 3/8\n",
            "Iteration 19/30 | Test Accuracy: 0.970 | Best: 0.969 | Wait: 4/8\n",
            "Iteration 20/30 | Test Accuracy: 0.971 | Best: 0.969 | Wait: 5/8\n",
            "Iteration 21/30 | Test Accuracy: 0.970 | Best: 0.971 | Wait: 0/8\n",
            "Iteration 22/30 | Test Accuracy: 0.970 | Best: 0.971 | Wait: 1/8\n",
            "Iteration 23/30 | Test Accuracy: 0.972 | Best: 0.971 | Wait: 2/8\n",
            "Iteration 24/30 | Test Accuracy: 0.971 | Best: 0.972 | Wait: 0/8\n",
            "Iteration 25/30 | Test Accuracy: 0.972 | Best: 0.972 | Wait: 1/8\n",
            "Iteration 26/30 | Test Accuracy: 0.972 | Best: 0.972 | Wait: 2/8\n",
            "Iteration 27/30 | Test Accuracy: 0.973 | Best: 0.972 | Wait: 3/8\n",
            "Iteration 28/30 | Test Accuracy: 0.971 | Best: 0.972 | Wait: 4/8\n",
            "Iteration 29/30 | Test Accuracy: 0.972 | Best: 0.972 | Wait: 5/8\n",
            "Iteration 30/30 | Test Accuracy: 0.971 | Best: 0.972 | Wait: 6/8\n",
            "\n",
            "Full manual labeling time (for 10000 images): 100000 seconds\n",
            "Pipeline human labeling time list: [500, 1500, 2500, 3500, 4500, 5500, 6500, 7500, 8500, 9500, 10500, 11500, 12500, 13500, 14500, 15500, 16500, 17500, 18500, 19500, 20500, 21500, 22500, 23500, 24500, 25500, 26500, 27500, 28500, 29500, 30500]\n"
          ]
        }
      ],
      "source": [
        "train_dir = \"/root/.cache/kagglehub/datasets/mohamedgamal07/reduced-mnist/versions/1/Reduced MNIST Data/Reduced Trainging data\"\n",
        "test_dir = \"/root/.cache/kagglehub/datasets/mohamedgamal07/reduced-mnist/versions/1/Reduced MNIST Data/Reduced Testing data\"\n",
        "X_train_full, y_train_full,x_test,y_test = load_data(train_dir, test_dir)\n",
        "np.random.seed(42)\n",
        "initial_idx = create_subset(X_train_full, y_train_full, n_per_class=5)[2]  # 5 samples per class (50 total)\n",
        "X_labeled = X_train_full[initial_idx]\n",
        "y_labeled = y_train_full[initial_idx]\n",
        "X_unlabeled = np.delete(X_train_full, initial_idx, axis=0)\n",
        "y_unlabeled = np.delete(y_train_full, initial_idx, axis=0)  # Only used to simulate human labeling\n",
        "\n",
        "# Initialize with 5 samples per class (50 total)\n",
        "initial_idx = create_subset(X_train_full, y_train_full, n_per_class=5)[2]\n",
        "X_labeled_init = X_train_full[initial_idx]\n",
        "y_labeled_init = y_train_full[initial_idx]\n",
        "X_unlabeled_init = np.delete(X_train_full, initial_idx, axis=0)\n",
        "y_unlabeled_init = np.delete(y_train_full, initial_idx, axis=0)\n",
        "\n",
        "# Run active learning\n",
        "model, X_labeled, y_labeled, X_unlabeled, y_unlabeled, accuracies, pipeline_human_time_list, full_manual_time, stopped_early= \\\n",
        "    active_learning_loop(\n",
        "        X_labeled=X_labeled_init,\n",
        "        y_labeled=y_labeled_init,\n",
        "        X_unlabeled=X_unlabeled_init,\n",
        "        y_unlabeled=y_unlabeled_init,\n",
        "        X_test = x_test,\n",
        "        y_test =y_test,\n",
        "        n_iterations=30,\n",
        "        samples_per_iteration=100\n",
        "    )"
      ]
    },
    {
      "cell_type": "code",
      "execution_count": 12,
      "metadata": {
        "colab": {
          "base_uri": "https://localhost:8080/"
        },
        "id": "VasgU7GpgjdY",
        "outputId": "de3c814e-4557-4692-883a-2d53f7881032"
      },
      "outputs": [
        {
          "name": "stdout",
          "output_type": "stream",
          "text": [
            "Iteration  Test Accuracy   Pipeline Human Time (sec)      Pipeline Human Time (hrs)     \n",
            "----------------------------------------------------------------------------------------\n",
            "1          0.7450          500                            0.14                          \n",
            "2          0.6345          1500                           0.42                          \n",
            "3          0.8950          2500                           0.69                          \n",
            "4          0.9155          3500                           0.97                          \n",
            "5          0.9290          4500                           1.25                          \n",
            "6          0.9385          5500                           1.53                          \n",
            "7          0.9415          6500                           1.81                          \n",
            "8          0.9465          7500                           2.08                          \n",
            "9          0.9545          8500                           2.36                          \n",
            "10         0.9590          9500                           2.64                          \n",
            "11         0.9610          10500                          2.92                          \n",
            "12         0.9655          11500                          3.19                          \n",
            "13         0.9640          12500                          3.47                          \n",
            "14         0.9690          13500                          3.75                          \n",
            "15         0.9700          14500                          4.03                          \n",
            "16         0.9700          15500                          4.31                          \n",
            "17         0.9695          16500                          4.58                          \n",
            "18         0.9700          17500                          4.86                          \n",
            "19         0.9700          18500                          5.14                          \n",
            "20         0.9705          19500                          5.42                          \n",
            "21         0.9695          20500                          5.69                          \n",
            "22         0.9700          21500                          5.97                          \n",
            "23         0.9720          22500                          6.25                          \n",
            "24         0.9710          23500                          6.53                          \n",
            "25         0.9715          24500                          6.81                          \n",
            "26         0.9715          25500                          7.08                          \n",
            "27         0.9725          26500                          7.36                          \n",
            "28         0.9710          27500                          7.64                          \n",
            "29         0.9720          28500                          7.92                          \n",
            "30         0.9710          29500                          8.19                          \n",
            "\n",
            "Estimated Full Manual Labeling Time: 100000 seconds (27.78 hours)\n",
            "Early Stopping Triggered: False\n",
            "\n",
            "---------- Final Performance Summary ----------\n",
            "Final Labeled Training Accuracy: 0.9679\n",
            "Final Unlabeled (Auto-Labeled) Accuracy: 0.9915\n",
            "Number of Remaining Unlabeled Samples: 6950\n",
            "------------------------------------------------\n"
          ]
        }
      ],
      "source": [
        "\n",
        "# Print table header for per-iteration results\n",
        "header = f\"{'Iteration':<10} {'Test Accuracy':<15} {'Pipeline Human Time (sec)':<30} {'Pipeline Human Time (hrs)':<30}\"\n",
        "print(header)\n",
        "print(\"-\" * len(header))\n",
        "\n",
        "# Iterate over each iteration's results and print the table rows.\n",
        "for i, (acc, time_sec) in enumerate(zip(accuracies, pipeline_human_time_list), start=1):\n",
        "    time_hrs = time_sec / 3600.0\n",
        "    print(f\"{i:<10} {acc:<15.4f} {time_sec:<30} {time_hrs:<30.2f}\")\n",
        "\n",
        "# Print estimated full manual labeling time\n",
        "full_manual_time_hours = full_manual_time / 3600.0\n",
        "print(\"\\nEstimated Full Manual Labeling Time: {} seconds ({:.2f} hours)\".format(full_manual_time, full_manual_time_hours))\n",
        "print(\"Early Stopping Triggered:\", stopped_early)\n",
        "\n",
        "# -----------------------------------------\n",
        "# Final Accuracy on Labeled and Unlabeled Data\n",
        "# -----------------------------------------\n",
        "# Evaluate final model on labeled training data\n",
        "X_labeled_flat = X_labeled.reshape(X_labeled.shape[0], -1)\n",
        "labeled_preds = model.predict(X_labeled_flat)\n",
        "labeled_acc = accuracy_score(y_labeled, labeled_preds)\n",
        "\n",
        "# Evaluate final model on remaining unlabeled data (using ground truth)\n",
        "if X_unlabeled.shape[0] > 0:\n",
        "    X_unlabeled_flat = X_unlabeled.reshape(X_unlabeled.shape[0], -1)\n",
        "    unlabeled_preds = model.predict(X_unlabeled_flat)\n",
        "    unlabeled_acc = accuracy_score(y_unlabeled, unlabeled_preds)\n",
        "else:\n",
        "    unlabeled_acc = None\n",
        "\n",
        "print(\"\\n---------- Final Performance Summary ----------\")\n",
        "print(f\"Final Labeled Training Accuracy: {labeled_acc:.4f}\")\n",
        "if unlabeled_acc is not None:\n",
        "    print(f\"Final Unlabeled (Auto-Labeled) Accuracy: {unlabeled_acc:.4f}\")\n",
        "else:\n",
        "    print(\"No remaining unlabeled samples.\")\n",
        "print(f\"Number of Remaining Unlabeled Samples: {X_unlabeled.shape[0]}\")\n",
        "print(\"------------------------------------------------\")"
      ]
    },
    {
      "cell_type": "code",
      "execution_count": 1,
      "metadata": {
        "id": "fVSMOeHbniGx"
      },
      "outputs": [
        {
          "data": {
            "image/png": "[encoded data removed]",
            "text/plain": [
              "<Figure size 1000x600 with 1 Axes>"
            ]
          },
          "metadata": {},
          "output_type": "display_data"
        }
      ],
      "source": [
        "import matplotlib.pyplot as plt\n",
        "\n",
        "# plotting accuracy values for each pipeline:\n",
        "pipeline1_acc = [0.9360, 0.9360, 0.9390, 0.9425, 0.9415, 0.9410, 0.9405, 0.9405, 0.9400, 0.9400]\n",
        "pipeline2_acc = [0.9030, 0.9080, 0.9160, 0.9205, 0.9225, 0.9250, 0.9245, 0.9240, 0.9235]\n",
        "pipeline3_acc = [0.7450, 0.6345, 0.8950, 0.9155, 0.9290, 0.9385, 0.9451, 0.9465, 0.9545, 0.9590, \n",
        "                   0.9610, 0.9655, 0.9640, 0.9690, 0.9700, 0.9695, 0.9695, 0.9700, 0.9705, 0.9705, \n",
        "                   0.9695, 0.9700, 0.9720]\n",
        "\n",
        "def extend_list(acc, total_iterations=30):\n",
        "    \"\"\"Extend the accuracy list to total_iterations by repeating the final value.\"\"\"\n",
        "    if len(acc) < total_iterations:\n",
        "        acc_extended = acc + [acc[-1]] * (total_iterations - len(acc))\n",
        "    else:\n",
        "        acc_extended = acc[:total_iterations]\n",
        "    return acc_extended\n",
        "\n",
        "# Extend each pipeline's accuracy to 30 iterations\n",
        "pipeline1_acc_extended = extend_list(pipeline1_acc, 30)\n",
        "pipeline2_acc_extended = extend_list(pipeline2_acc, 30)\n",
        "pipeline3_acc_extended = extend_list(pipeline3_acc, 30)\n",
        "\n",
        "# Create iteration numbers 1 to 30\n",
        "iterations = list(range(1, 31))\n",
        "\n",
        "# Plot the results\n",
        "plt.figure(figsize=(10, 6))\n",
        "plt.plot(iterations, pipeline1_acc_extended, label='Pipeline 1', marker='o')\n",
        "plt.plot(iterations, pipeline2_acc_extended, label='Pipeline 2', marker='s')\n",
        "plt.plot(iterations, pipeline3_acc_extended, label='Pipeline 3', marker='^')\n",
        "plt.xlabel('Iteration')\n",
        "plt.ylabel('Test Accuracy')\n",
        "plt.title('Test Accuracy vs. Iteration for All Pipelines')\n",
        "plt.legend()\n",
        "plt.grid(True)\n",
        "plt.tight_layout()\n",
        "plt.show()\n"
      ]
    },
    {
      "cell_type": "code",
      "execution_count": null,
      "metadata": {},
      "outputs": [],
      "source": []
    }
  ],
  "metadata": {
    "colab": {
      "provenance": []
    },
    "kernelspec": {
      "display_name": "Python 3",
      "name": "python3"
    },
    "language_info": {
      "codemirror_mode": {
        "name": "ipython",
        "version": 3
      },
      "file_extension": ".py",
      "mimetype": "text/x-python",
      "name": "python",
      "nbconvert_exporter": "python",
      "pygments_lexer": "ipython3",
      "version": "3.10.12"
    }
  },
  "nbformat": 4,
  "nbformat_minor": 0
}
